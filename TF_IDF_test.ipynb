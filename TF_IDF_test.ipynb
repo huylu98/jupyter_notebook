{
  "nbformat": 4,
  "nbformat_minor": 0,
  "metadata": {
    "kernelspec": {
      "name": "python3",
      "display_name": "Python 3"
    },
    "language_info": {
      "codemirror_mode": {
        "name": "ipython",
        "version": 3
      },
      "file_extension": ".py",
      "mimetype": "text/x-python",
      "name": "python",
      "nbconvert_exporter": "python",
      "pygments_lexer": "ipython3",
      "version": "3.7.0"
    },
    "colab": {
      "name": "TF-IDF-test.ipynb",
      "provenance": [],
      "toc_visible": true,
      "include_colab_link": true
    },
    "accelerator": "GPU"
  },
  "cells": [
    {
      "cell_type": "markdown",
      "metadata": {
        "id": "view-in-github",
        "colab_type": "text"
      },
      "source": [
        "<a href=\"https://colab.research.google.com/github/pertvirt/hello_world/blob/master/TF_IDF_test.ipynb\" target=\"_parent\"><img src=\"https://colab.research.google.com/assets/colab-badge.svg\" alt=\"Open In Colab\"/></a>"
      ]
    },
    {
      "cell_type": "markdown",
      "metadata": {
        "id": "nuSkkBuIg6jb",
        "colab_type": "text"
      },
      "source": [
        "# Document Retrieval using TF-IDF Weighted Rank and TF-IDF Cosine Similarity"
      ]
    },
    {
      "cell_type": "code",
      "metadata": {
        "id": "4kEdDwN-g6jc",
        "colab_type": "code",
        "colab": {}
      },
      "source": [
        ""
      ],
      "execution_count": 0,
      "outputs": []
    },
    {
      "cell_type": "markdown",
      "metadata": {
        "id": "e2Sqrkirg6jg",
        "colab_type": "text"
      },
      "source": [
        "## Imports"
      ]
    },
    {
      "cell_type": "code",
      "metadata": {
        "id": "oOkv1urcg6jh",
        "colab_type": "code",
        "colab": {}
      },
      "source": [
        "!unzip stories"
      ],
      "execution_count": 0,
      "outputs": []
    },
    {
      "cell_type": "code",
      "metadata": {
        "id": "LWfztkO6hLKY",
        "colab_type": "code",
        "colab": {
          "base_uri": "https://localhost:8080/",
          "height": 139
        },
        "outputId": "d041b219-1483-41e6-d6ee-d129102abdf2"
      },
      "source": [
        "!pip install num2words"
      ],
      "execution_count": 2,
      "outputs": [
        {
          "output_type": "stream",
          "text": [
            "Collecting num2words\n",
            "\u001b[?25l  Downloading https://files.pythonhosted.org/packages/eb/a2/ea800689730732e27711c41beed4b2a129b34974435bdc450377ec407738/num2words-0.5.10-py3-none-any.whl (101kB)\n",
            "\u001b[K     |████████████████████████████████| 102kB 2.8MB/s \n",
            "\u001b[?25hRequirement already satisfied: docopt>=0.6.2 in /usr/local/lib/python3.6/dist-packages (from num2words) (0.6.2)\n",
            "Installing collected packages: num2words\n",
            "Successfully installed num2words-0.5.10\n"
          ],
          "name": "stdout"
        }
      ]
    },
    {
      "cell_type": "code",
      "metadata": {
        "id": "q3QmZo5dg6jk",
        "colab_type": "code",
        "colab": {}
      },
      "source": [
        "from nltk.corpus import stopwords\n",
        "from nltk.tokenize import word_tokenize\n",
        "from nltk.stem import PorterStemmer\n",
        "from collections import Counter\n",
        "from num2words import num2words\n",
        "\n",
        "import nltk\n",
        "import os\n",
        "import string\n",
        "import numpy as np\n",
        "import copy\n",
        "import pandas as pd\n",
        "import pickle\n",
        "import re\n",
        "import math\n",
        "\n",
        "# %load_ext autotime"
      ],
      "execution_count": 0,
      "outputs": []
    },
    {
      "cell_type": "code",
      "metadata": {
        "id": "oLqKH5Xng6jn",
        "colab_type": "code",
        "colab": {}
      },
      "source": [
        ""
      ],
      "execution_count": 0,
      "outputs": []
    },
    {
      "cell_type": "code",
      "metadata": {
        "id": "paUmHdkxg6jq",
        "colab_type": "code",
        "colab": {}
      },
      "source": [
        "title = \"data\"\n",
        "alpha = 0.3"
      ],
      "execution_count": 0,
      "outputs": []
    },
    {
      "cell_type": "code",
      "metadata": {
        "id": "IrieJRYXg6jt",
        "colab_type": "code",
        "colab": {}
      },
      "source": [
        ""
      ],
      "execution_count": 0,
      "outputs": []
    },
    {
      "cell_type": "markdown",
      "metadata": {
        "id": "7iIwOeurg6jw",
        "colab_type": "text"
      },
      "source": [
        "## Taking all folders"
      ]
    },
    {
      "cell_type": "code",
      "metadata": {
        "id": "uVo6e15pg6jx",
        "colab_type": "code",
        "colab": {}
      },
      "source": [
        "folders = [x[0] for x in os.walk(str(os.getcwd())+'/'+title+'/')]\n",
        "folders[0] = folders[0][:len(folders[0])-1]"
      ],
      "execution_count": 0,
      "outputs": []
    },
    {
      "cell_type": "code",
      "metadata": {
        "id": "waFQnijzg6jz",
        "colab_type": "code",
        "colab": {
          "base_uri": "https://localhost:8080/",
          "height": 34
        },
        "outputId": "7555f099-055d-4b5e-a77d-649eb8d9de46"
      },
      "source": [
        "folders"
      ],
      "execution_count": 31,
      "outputs": [
        {
          "output_type": "execute_result",
          "data": {
            "text/plain": [
              "['/content/data', '/content/data/.ipynb_checkpoints']"
            ]
          },
          "metadata": {
            "tags": []
          },
          "execution_count": 31
        }
      ]
    },
    {
      "cell_type": "code",
      "metadata": {
        "id": "63zsqvVcg6j4",
        "colab_type": "code",
        "colab": {}
      },
      "source": [
        "for i in folders:\n",
        "  print(str(i))"
      ],
      "execution_count": 0,
      "outputs": []
    },
    {
      "cell_type": "markdown",
      "metadata": {
        "id": "lCOWGaxYg6j6",
        "colab_type": "text"
      },
      "source": [
        "## Collecting the file names and titles"
      ]
    },
    {
      "cell_type": "code",
      "metadata": {
        "id": "OayFKgCPie0U",
        "colab_type": "code",
        "colab": {
          "base_uri": "https://localhost:8080/",
          "height": 71
        },
        "outputId": "a0893724-5793-4f54-fac2-6764b08c6645"
      },
      "source": [
        "import glob\n",
        "l = glob.glob(\"data/*.txt\")\n",
        "dataset = []\n",
        "for i in l:\n",
        "  # dataset.append(i.replace(\"data/\", \"\"))\n",
        "  dataset.append(i) \n",
        "\n",
        "print(dataset)\n",
        "print(len(dataset))"
      ],
      "execution_count": 46,
      "outputs": [
        {
          "output_type": "stream",
          "text": [
            "['data/Control your smart home with the Google Assistant.txt', 'data/Can Facebook And Google Detect And Stop Deepfakes?.txt', 'data/Prepare for Your Google Interview: Leadership.txt', 'data/Stonewall Forever - A project by The Center with support from Google.txt', 'data/Google at 2019 Milan Design Week: A Space for Being.txt', 'data/Introducing Google Input Tools.txt', 'data/Live Caption: Making digital media more accessible with a single tap.txt', 'data/Project Euphonia: Helping everyone be better understood.txt', 'data/DIVA: Making the Google Assistant more accessible.txt', 'data/Take Your Child to Work Day at Google 2019.txt', 'data/The Try Guys Try 13 Future Technologies At Google.txt', 'data/Google Apps Quick Tour.txt', 'data/Create Your Resume for Google: Tips and Advice.txt', 'data/How Search Works.txt', 'data/Real Talk with Google Software Engineer.txt', 'data/What is Google’s Advanced Protection Program?.txt', 'data/Using Android’s Digital Wellbeing tools to spend less time on the phone.txt', 'data/Google — Year In Search 2017.txt', \"data/What's it like to work at Google?.txt\", 'data/Prepare for Your Google Interview: Coding.txt', 'data/Working at Google London.txt', 'data/Crowdsource by Google: Building better products for everyone with machine learning.txt', 'data/Google Wave Overview.txt', 'data/How We Hire at Google.txt', 'data/Google Stadia announced at GDC 2019.txt', 'data/Beating the record of most-calculated digits of pi.txt', 'data/Introducing Google Nose.txt', 'data/Sharing your Google data with Apps - New.txt']\n",
            "28\n"
          ],
          "name": "stdout"
        }
      ]
    },
    {
      "cell_type": "code",
      "metadata": {
        "scrolled": false,
        "id": "yB5K7ldtg6j7",
        "colab_type": "code",
        "colab": {
          "base_uri": "https://localhost:8080/",
          "height": 139
        },
        "outputId": "a47af353-8d7b-48c8-f0a8-9d502b388557"
      },
      "source": [
        "# dataset = []\n",
        "\n",
        "# c = False\n",
        "\n",
        "# for i in folders:\n",
        "#     file = open(i, 'r')\n",
        "#     text = file.read().strip()\n",
        "#     file.close()\n",
        "\n",
        "#     file_name = re.findall('><A HREF=\"(.*)\">', text)\n",
        "#     file_title = re.findall('<BR><TD> (.*)\\n', text)\n",
        "\n",
        "#     if c == False:\n",
        "#         file_name = file_name[2:]\n",
        "#         c = True\n",
        "        \n",
        "#     print(len(file_name), len(file_title))\n",
        "\n",
        "#     for j in range(len(file_name)):\n",
        "#         dataset.append((str(i) +\"/\"+ str(file_name[j]), file_title[j]))\n",
        "\n",
        "#     print(file_name)"
      ],
      "execution_count": 24,
      "outputs": [
        {
          "output_type": "stream",
          "text": [
            "452 452\n",
            "['100west.txt', '13chil.txt', '14.lws', '16.lws', '17.lws', '18.lws', '19.lws', '20.lws', '3gables.txt', '3lpigs.txt', '3sonnets.vrs', '3student.txt', '3wishes.txt', '4moons.txt', '5orange.txt', '6ablemen.txt', '6napolen.txt', '7oldsamr.txt', '7voysinb.txt', 'ab40thv.txt', 'abbey.txt', 'abyss.txt', 'adler.txt', 'adv_alad.txt', 'advsayed.txt', 'advtthum.txt', 'aesop11.txt', 'aesopa10.txt', 'aircon.txt', 'aisle.six', 'aislesix.txt', 'alad10.txt', 'alissadl.txt', 'altside.hum', 'aluminum.hum', 'aminegg.txt', 'angelfur.hum', 'angry_ca.txt', 'antcrick.txt', 'aquith.txt', 'arcadia.sty', 'archive', 'arctic.txt', 'asop', 'assorted.txt', 'bagel.man', 'bagelman.txt', 'batlslau.txt', 'beast.asc', 'beautbst.txt', 'beggars.txt', 'bern', 'berternie.txt', 'bestwish', 'beyond.hum', 'bgb.txt', 'bgcspoof.txt', 'bigred.hum', 'bishop00.txt', 'blabnove.hum', 'blabnove.txt', 'blackp.txt', 'blackrdr', 'blak', 'blasters.fic', 'blh.txt', 'blind.txt', 'blossom.pom', 'blue', 'bluebrd.txt', 'bookem.1', 'bookem2', 'bookem3', 'brain.damage', 'bram', 'bran', 'breaks1.asc', 'breaks2.asc', 'breaks3.asc', 'bruce-p.txt', 'buggy.txt', 'buldetal.txt', 'buldream.txt', 'bulfelis.txt', 'bulhuntr.txt', 'bulironb.txt', 'bullove.txt', 'bulmrx.txt', 'bulnland.txt', 'bulnoopt.txt', 'bulolli1.txt', 'bulolli2.txt', 'bulphrek.txt', 'bulprint.txt', 'bulwer.lytton', 'bulzork1.txt', 'bumm', 'bureau.txt', 'burintrv.66', 'burintrv.78', 'burintrv.92', 'burltrs', 'burn', 'cabin.txt', 'cameloto.hum', 'campfire.txt', 'candle.hum', 'cardcnt.txt', 'ccm.txt', 'charlie.txt', 'chik', 'clevdonk.txt', 'clon', 'cmoutmou.txt', 'comp', 'confilct.fun', 'consumdr.hum', 'contrad1.hum', 'cooldark.sto', 'cooldark.txt', 'corcor.hum', 'cow.exploder', 'crabhern.txt', 'crazy.hum', 'cum', 'curious.george', 'cybersla.txt', 'dakota.txt', 'dan', 'darkness.txt', 'day.in.mcdonald', 'deal', 'deathmrs.d', 'deer.txt', 'descent.poe', 'diaryflf.txt', 'dicegame.txt', 'dicksong.txt', 'disco.be.fun', 'discocanbefun.txt', 'domain.poe', 'dopedenn.txt', 'dskool.txt', 'dtruck.txt', 'dwar', 'elite.app', 'elveshoe.txt', 'emperor3.txt', 'empnclot.txt', 'empsjowk.txt', 'empty.txt', 'enc', 'encamp01.txt', 'enchdup.hum', 'enginer.txt', 'enya_trn.txt', 'excerpt.hum', 'excerpt.txt', 'eyeargon.hum', 'ezoff', 'fable.txt', 'fantas.hum', 'fantasy.hum', 'fantasy.txt', 'fea1', 'fea2', 'fea3', 'fear.hum', 'fearmnky', 'fgoose.txt', 'fic1', 'fic2', 'fic3', 'fic4', 'fic5', 'fic7', 'fish.txt', 'fleas.txt', 'flktrp.txt', 'floc', 'floobs.txt', 'flute.txt', 'flytrunk.txt', 'forgotte', 'fourth.fic', 'fowl.death', 'foxncrow.txt', 'foxngrap.txt', 'foxnstrk.txt', 'fran', 'fred.txt', 'freeman.fil', 'friend.s', 'friends.txt', 'frogp.txt', 'frum', 'game.txt', 'gatherng.txt', 'gay', 'gemdra.txt', 'ghost', 'girl', 'girlclub.txt', 'glimpse1.txt', 'gloves.txt', 'gold3ber.txt', 'goldbug.poe', 'goldenp.txt', 'goldfish.txt', 'goldgoos.txt', 'grav', 'graymare.txt', 'greatlrn.leg', 'greedog.txt', 'gulliver.txt', 'hansgrtl.txt', 'hareleph.txt', 'hareporc.txt', 'haretort.txt', 'healer.txt', 'hell4.txt', 'hellmach.txt', 'helmfuse.txt', 'hils', 'history5.txt', 'hitch2.txt', 'hitch3.txt', 'hole2nar.txt', 'holmesbk.txt', 'home.fil', 'hop-frog.poe', 'horsdonk.txt', 'horswolf.txt', 'hotline1.txt', 'hotline3.txt', 'hotline4.txt', 'hound-b.txt', 'how.ernie.bert', 'idi.hum', 'igiv', 'imagin.hum', 'immortal', 'immorti.hum', 'imonly17.txt', 'inter', 'island.poe', 'jackbstl.txt', 'jackmac.fic', 'jaynejob.asc', 'jerichms.hum', 'jim.asc', 'keeping.insanit', 'keepmodu.txt', 'kharian.txt', 'kneeslapper', 'kneeslapper.txt', 'knuckle.txt', 'korea.s', 'kzap.txt', 'ladylust.hum', 'lament.txt', 'lgoldbrd.txt', 'life.txt', 'lil', 'lionbird', 'lionmane.txt', 'lionmosq.txt', 'lionwar.txt', 'lmermaid.txt', 'lmtchgrl.txt', 'long1-3.txt', 'lpeargrl.txt', 'lrrhood.txt', 'ltp', 'luf', 'lure.txt', 'mario.txt', 'mattress.txt', 'mazarin.txt', 'mcdonaldl.txt', 'melissa.txt', 'mike.txt', 'mindprob.txt', 'mindwar', 'missing.txt', 'modemhippy.txt', 'monkking.txt', 'monksol.txt', 'mouslion.txt', 'mtinder.txt', 'musgrave.txt', 'musibrem.txt', 'mydream.txt', 'myeyes', 'narciss.txt', 'nigel.1', 'nigel.10', 'nigel.2', 'nigel.3', 'nigel.4', 'nigel.5', 'nigel.6', 'nigel.7', 'nihgel_8.9', 'nitepeek.sto', 'non2', 'non3', 'non4', 'obstgoat.txt', 'omarsheh.txt', 'outcast.dos', 'oxfrog.txt', 'paink-ws.txt', 'panama.txt', 'parotsha.txt', 'partya.txt', 'paul_har.sto', 'peace.fun', 'pepdegener.txt', 'pepsi.degenerat', 'perf', 'pinocch.txt', 'piracy.sto', 'plescopm.txt', 'poem-1.txt', 'poem-2.txt', 'poem-4.txt', 'poplstrm.txt', 'pphamlin.txt', 'pregn.txt', 'prince.art', 'progx', 'psf.txt', 'psi', 'psyc', 'pussboot.txt', 'qcarroll', 'quarter.c1', 'quarter.c10', 'quarter.c11', 'quarter.c12', 'quarter.c13', 'quarter.c14', 'quarter.c15', 'quarter.c16', 'quarter.c17', 'quarter.c18', 'quarter.c19', 'quarter.c2', 'quarter.c3', 'quarter.c4', 'quarter.c5', 'quarter.c6', 'quarter.c7', 'quarter.c8', 'quarter.c9', 'quest', 'quickfix', 'quot', 'radar_ra.txt', 'rainda.txt', 'reality.txt', 'reap', 'redragon.txt', 'retrib.txt', 'rid.txt', 'robotech', 'rock', 'rocket.sf', 'roger1.txt', 'running.txt', 's&m_plot', 's&m_that', 'safe', 'sanpedr2.txt', 'shoscomb.txt', 'shrdfarm.txt', 'shulk.txt', 'sick-kid.txt', 'sight.txt', 'silverb.txt', 'sis', 'sleprncs.txt', 'snow.txt', 'snowmaid.txt', 'snowqn1.txt', 'social.vikings', 'socialvikings.txt', 'solitary.txt', 'space.txt', 'spam.key', 'spectacl.poe', 'spider.txt', 'spiders.txt', 'sqzply.txt', 'sre-dark.txt', 'stainles.ana', 'stairdre.txt', 'startrek.txt', 'stsgreek', 'sucker.txt', 'sunday.txt', 'superg1', 'szechuan', 't_zone.jok', 'tailbear.txt', 'tao3.dos', 'taxnovel.txt', 'tcoa.txt', 'tctac.txt', 'tearglas.txt', 'telefone.txt', 'terrorbears.txt', 'testpilo.hum', 'textfile.primer', 'thanksg', 'the-tree.txt', 'thewave', 'timem.hac', 'times.fic', 'timetrav.txt', 'tin', 'tinsoldr.txt', 'toilet.s', 'traitor.txt', 'tree.txt', 'tuc_mees', 'uglyduck.txt', 'unluckwr.txt', 'vaincrow.txt', 'vainsong.txt', 'valen', 'vampword.txt', 'vday.hum', 'veiledl.txt', 'vgilante.txt', 'wall.art', 'wanderer.fun', 'weaver.txt', 'weeprncs.txt', 'whgdsreg.reg', 'wisteria.txt', 'withdraw.cyb', 'wlgirl.txt', 'wolf7kid.txt', 'wolfcran.txt', 'wolflamb.txt', 'wombat.und', 'write', 'wrt', 'yukon.txt', 'zombies.txt']\n",
            "15 15\n",
            "['sre01.txt', 'sre02.txt', 'sre03.txt', 'sre04.txt', 'sre05.txt', 'sre06.txt', 'sre07.txt', 'sre08.txt', 'sre09.txt', 'sre10.txt', 'sre_feqh.txt', 'sre_finl.txt', 'sre_sei.txt', 'sretrade.txt', 'srex.txt']\n",
            "0 0\n",
            "[]\n"
          ],
          "name": "stdout"
        }
      ]
    },
    {
      "cell_type": "code",
      "metadata": {
        "id": "TkSxLY9Mg6j_",
        "colab_type": "code",
        "colab": {
          "base_uri": "https://localhost:8080/",
          "height": 34
        },
        "outputId": "df0455d9-ebfc-4a5a-d242-eac14de673e6"
      },
      "source": [
        "len(dataset)"
      ],
      "execution_count": 47,
      "outputs": [
        {
          "output_type": "execute_result",
          "data": {
            "text/plain": [
              "28"
            ]
          },
          "metadata": {
            "tags": []
          },
          "execution_count": 47
        }
      ]
    },
    {
      "cell_type": "code",
      "metadata": {
        "id": "yF1UkwG3g6kC",
        "colab_type": "code",
        "colab": {}
      },
      "source": [
        "N = len (dataset)"
      ],
      "execution_count": 0,
      "outputs": []
    },
    {
      "cell_type": "code",
      "metadata": {
        "id": "996LW5Ffg6kF",
        "colab_type": "code",
        "colab": {}
      },
      "source": [
        ""
      ],
      "execution_count": 0,
      "outputs": []
    },
    {
      "cell_type": "code",
      "metadata": {
        "id": "YydPl03vg6kH",
        "colab_type": "code",
        "colab": {}
      },
      "source": [
        "def print_doc(id):\n",
        "    print(dataset[id])\n",
        "    file = open(dataset[id], 'r', encoding='cp1250')\n",
        "    text = file.read().strip()\n",
        "    file.close()\n",
        "    print(text)"
      ],
      "execution_count": 0,
      "outputs": []
    },
    {
      "cell_type": "code",
      "metadata": {
        "id": "WhIdCWR_g6kK",
        "colab_type": "code",
        "colab": {}
      },
      "source": [
        ""
      ],
      "execution_count": 0,
      "outputs": []
    },
    {
      "cell_type": "markdown",
      "metadata": {
        "id": "dSv0NzSrg6kN",
        "colab_type": "text"
      },
      "source": [
        "# Preprocessing"
      ]
    },
    {
      "cell_type": "code",
      "metadata": {
        "id": "-6p5cwpmg6kO",
        "colab_type": "code",
        "colab": {}
      },
      "source": [
        "def convert_lower_case(data):\n",
        "    return np.char.lower(data)"
      ],
      "execution_count": 0,
      "outputs": []
    },
    {
      "cell_type": "code",
      "metadata": {
        "id": "R9-oztUUg6kR",
        "colab_type": "code",
        "colab": {}
      },
      "source": [
        "def remove_stop_words(data):\n",
        "    stop_words = stopwords.words('english')\n",
        "    words = word_tokenize(str(data))\n",
        "    new_text = \"\"\n",
        "    for w in words:\n",
        "        if w not in stop_words and len(w) > 1:\n",
        "            new_text = new_text + \" \" + w\n",
        "    return new_text"
      ],
      "execution_count": 0,
      "outputs": []
    },
    {
      "cell_type": "code",
      "metadata": {
        "id": "6XC_wb9Yg6kU",
        "colab_type": "code",
        "colab": {}
      },
      "source": [
        "def remove_punctuation(data):\n",
        "    symbols = \"!\\\"#$%&()*+-./:;<=>?@[\\]^_`{|}~\\n\"\n",
        "    for i in range(len(symbols)):\n",
        "        data = np.char.replace(data, symbols[i], ' ')\n",
        "        data = np.char.replace(data, \"  \", \" \")\n",
        "    data = np.char.replace(data, ',', '')\n",
        "    return data"
      ],
      "execution_count": 0,
      "outputs": []
    },
    {
      "cell_type": "code",
      "metadata": {
        "id": "afsJEGgUg6kY",
        "colab_type": "code",
        "colab": {}
      },
      "source": [
        "def remove_apostrophe(data):\n",
        "    return np.char.replace(data, \"'\", \"\")"
      ],
      "execution_count": 0,
      "outputs": []
    },
    {
      "cell_type": "code",
      "metadata": {
        "id": "LQm3JUQPg6kd",
        "colab_type": "code",
        "colab": {}
      },
      "source": [
        "def stemming(data):\n",
        "    stemmer= PorterStemmer()\n",
        "    \n",
        "    tokens = word_tokenize(str(data))\n",
        "    new_text = \"\"\n",
        "    for w in tokens:\n",
        "        new_text = new_text + \" \" + stemmer.stem(w)\n",
        "    return new_text"
      ],
      "execution_count": 0,
      "outputs": []
    },
    {
      "cell_type": "code",
      "metadata": {
        "id": "-kh7R9QOg6ki",
        "colab_type": "code",
        "colab": {}
      },
      "source": [
        "def convert_numbers(data):\n",
        "    tokens = word_tokenize(str(data))\n",
        "    new_text = \"\"\n",
        "    for w in tokens:\n",
        "        try:\n",
        "            w = num2words(int(w))\n",
        "        except:\n",
        "            a = 0\n",
        "        new_text = new_text + \" \" + w\n",
        "    new_text = np.char.replace(new_text, \"-\", \" \")\n",
        "    return new_text"
      ],
      "execution_count": 0,
      "outputs": []
    },
    {
      "cell_type": "code",
      "metadata": {
        "id": "LM2pfkA5g6kl",
        "colab_type": "code",
        "colab": {}
      },
      "source": [
        ""
      ],
      "execution_count": 0,
      "outputs": []
    },
    {
      "cell_type": "code",
      "metadata": {
        "id": "347x3jQ7g6kn",
        "colab_type": "code",
        "colab": {}
      },
      "source": [
        "def preprocess(data):\n",
        "    data = convert_lower_case(data)\n",
        "    data = remove_punctuation(data) #remove comma seperately\n",
        "    data = remove_apostrophe(data)\n",
        "    data = remove_stop_words(data)\n",
        "    data = convert_numbers(data)\n",
        "    data = stemming(data)\n",
        "    data = remove_punctuation(data)\n",
        "    data = convert_numbers(data)\n",
        "    data = stemming(data) #needed again as we need to stem the words\n",
        "    data = remove_punctuation(data) #needed again as num2word is giving few hypens and commas fourty-one\n",
        "    data = remove_stop_words(data) #needed again as num2word is giving stop words 101 - one hundred and one\n",
        "    return data"
      ],
      "execution_count": 0,
      "outputs": []
    },
    {
      "cell_type": "code",
      "metadata": {
        "id": "Naro8YzEg6kq",
        "colab_type": "code",
        "colab": {}
      },
      "source": [
        ""
      ],
      "execution_count": 0,
      "outputs": []
    },
    {
      "cell_type": "markdown",
      "metadata": {
        "id": "H6hWt1eIg6kt",
        "colab_type": "text"
      },
      "source": [
        "## Extracting Data"
      ]
    },
    {
      "cell_type": "code",
      "metadata": {
        "id": "M8Sk9PKCn73Y",
        "colab_type": "code",
        "colab": {
          "base_uri": "https://localhost:8080/",
          "height": 102
        },
        "outputId": "e126fa58-cd45-4e9b-b8ea-974bef1d4d17"
      },
      "source": [
        "import nltk\n",
        "nltk.download('stopwords')\n",
        "nltk.download('punkt')"
      ],
      "execution_count": 59,
      "outputs": [
        {
          "output_type": "stream",
          "text": [
            "[nltk_data] Downloading package stopwords to /root/nltk_data...\n",
            "[nltk_data]   Unzipping corpora/stopwords.zip.\n",
            "[nltk_data] Downloading package punkt to /root/nltk_data...\n",
            "[nltk_data]   Unzipping tokenizers/punkt.zip.\n"
          ],
          "name": "stdout"
        },
        {
          "output_type": "execute_result",
          "data": {
            "text/plain": [
              "True"
            ]
          },
          "metadata": {
            "tags": []
          },
          "execution_count": 59
        }
      ]
    },
    {
      "cell_type": "code",
      "metadata": {
        "scrolled": false,
        "id": "Fz5EC0Qvg6ku",
        "colab_type": "code",
        "colab": {}
      },
      "source": [
        "processed_text = []\n",
        "# processed_title = []\n",
        "\n",
        "for i in dataset[:N]:\n",
        "    # file = open(i[0], 'r', encoding=\"utf8\", errors='ignore')\n",
        "    file = open(i, 'r', encoding=\"utf8\", errors='ignore')\n",
        "    text = file.read().strip()\n",
        "    file.close()\n",
        "\n",
        "    processed_text.append(word_tokenize(str(preprocess(text))))\n",
        "    # processed_title.append(word_tokenize(str(preprocess(i[1]))))"
      ],
      "execution_count": 0,
      "outputs": []
    },
    {
      "cell_type": "code",
      "metadata": {
        "id": "h-Ag0v56g6kw",
        "colab_type": "code",
        "colab": {}
      },
      "source": [
        ""
      ],
      "execution_count": 0,
      "outputs": []
    },
    {
      "cell_type": "markdown",
      "metadata": {
        "id": "nAnzR4Wtg6kz",
        "colab_type": "text"
      },
      "source": [
        "## Calculating DF for all words"
      ]
    },
    {
      "cell_type": "code",
      "metadata": {
        "scrolled": true,
        "id": "LVCM0fhQg6k0",
        "colab_type": "code",
        "colab": {}
      },
      "source": [
        "DF = {}\n",
        "\n",
        "for i in range(N):\n",
        "    tokens = processed_text[i]\n",
        "    for w in tokens:\n",
        "        try:\n",
        "            DF[w].add(i)\n",
        "        except:\n",
        "            DF[w] = {i}\n",
        "\n",
        "    # tokens = processed_title[i]\n",
        "    # for w in tokens:\n",
        "    #     try:\n",
        "    #         DF[w].add(i)\n",
        "    #     except:\n",
        "    #         DF[w] = {i}\n",
        "for i in DF:\n",
        "    DF[i] = len(DF[i])"
      ],
      "execution_count": 0,
      "outputs": []
    },
    {
      "cell_type": "code",
      "metadata": {
        "scrolled": false,
        "id": "u2GzPGh8g6k2",
        "colab_type": "code",
        "colab": {}
      },
      "source": [
        "DF"
      ],
      "execution_count": 0,
      "outputs": []
    },
    {
      "cell_type": "code",
      "metadata": {
        "id": "cP5z0urSg6k4",
        "colab_type": "code",
        "colab": {}
      },
      "source": [
        ""
      ],
      "execution_count": 0,
      "outputs": []
    },
    {
      "cell_type": "code",
      "metadata": {
        "id": "0NvsVLX5g6k7",
        "colab_type": "code",
        "colab": {}
      },
      "source": [
        "total_vocab_size = len(DF)"
      ],
      "execution_count": 0,
      "outputs": []
    },
    {
      "cell_type": "code",
      "metadata": {
        "id": "7kpTnFgUg6lA",
        "colab_type": "code",
        "colab": {
          "base_uri": "https://localhost:8080/",
          "height": 34
        },
        "outputId": "1bf28865-665e-4bdd-bab4-417e49ab7e9e"
      },
      "source": [
        "total_vocab_size"
      ],
      "execution_count": 64,
      "outputs": [
        {
          "output_type": "execute_result",
          "data": {
            "text/plain": [
              "2149"
            ]
          },
          "metadata": {
            "tags": []
          },
          "execution_count": 64
        }
      ]
    },
    {
      "cell_type": "code",
      "metadata": {
        "scrolled": false,
        "id": "5eoQVF9Ig6lD",
        "colab_type": "code",
        "colab": {}
      },
      "source": [
        "total_vocab = [x for x in DF]"
      ],
      "execution_count": 0,
      "outputs": []
    },
    {
      "cell_type": "code",
      "metadata": {
        "id": "gXM9bTF6g6lG",
        "colab_type": "code",
        "colab": {
          "base_uri": "https://localhost:8080/",
          "height": 54
        },
        "outputId": "0f4bde84-6778-4e6b-973b-c0d7892828e1"
      },
      "source": [
        "print(total_vocab[:20])"
      ],
      "execution_count": 66,
      "outputs": [
        {
          "output_type": "stream",
          "text": [
            "['zero', 'five', 'thousand', 'seven', 'hundr', 'sixti', 'eight', 'forti', 'speaker', 'googl', 'assist', 'access', 'video', 'ten', 'two', 'control', 'smart', 'home', 'twelv', 'requir']\n"
          ],
          "name": "stdout"
        }
      ]
    },
    {
      "cell_type": "code",
      "metadata": {
        "id": "U0QoTNuXg6lI",
        "colab_type": "code",
        "colab": {}
      },
      "source": [
        ""
      ],
      "execution_count": 0,
      "outputs": []
    },
    {
      "cell_type": "code",
      "metadata": {
        "id": "LnDah_Mkg6lK",
        "colab_type": "code",
        "colab": {}
      },
      "source": [
        "def doc_freq(word):\n",
        "    c = 0\n",
        "    try:\n",
        "        c = DF[word]\n",
        "    except:\n",
        "        pass\n",
        "    return c"
      ],
      "execution_count": 0,
      "outputs": []
    },
    {
      "cell_type": "code",
      "metadata": {
        "id": "-8lHdxE2g6lN",
        "colab_type": "code",
        "colab": {}
      },
      "source": [
        ""
      ],
      "execution_count": 0,
      "outputs": []
    },
    {
      "cell_type": "markdown",
      "metadata": {
        "id": "u2bIroN5g6lQ",
        "colab_type": "text"
      },
      "source": [
        "### Calculating TF-IDF for body, we will consider this as the actual tf-idf as we will add the title weight to this."
      ]
    },
    {
      "cell_type": "code",
      "metadata": {
        "scrolled": false,
        "id": "ThS0Nda_g6lR",
        "colab_type": "code",
        "colab": {}
      },
      "source": [
        "doc = 0\n",
        "\n",
        "tf_idf = {}\n",
        "\n",
        "for i in range(N):\n",
        "    \n",
        "    tokens = processed_text[i]\n",
        "    \n",
        "    counter = Counter(tokens)\n",
        "    words_count = len(tokens)\n",
        "    \n",
        "    for token in np.unique(tokens):\n",
        "        \n",
        "        tf = counter[token]/words_count\n",
        "        df = doc_freq(token)\n",
        "        idf = np.log((N+1)/(df+1))\n",
        "        \n",
        "        tf_idf[doc, token] = tf*idf\n",
        "\n",
        "    doc += 1"
      ],
      "execution_count": 0,
      "outputs": []
    },
    {
      "cell_type": "code",
      "metadata": {
        "id": "g3rqkojgg6lT",
        "colab_type": "code",
        "colab": {
          "base_uri": "https://localhost:8080/",
          "height": 1000
        },
        "outputId": "c1d515ac-88eb-40d1-c5cd-e53f9f26e89f"
      },
      "source": [
        "tf_idf"
      ],
      "execution_count": 69,
      "outputs": [
        {
          "output_type": "execute_result",
          "data": {
            "text/plain": [
              "{(0, 'access'): 0.00372276481465884,\n",
              " (0, 'account'): 0.0006432838602930261,\n",
              " (0, 'action'): 0.0008780509078683185,\n",
              " (0, 'also'): 0.0002667744684966323,\n",
              " (0, 'anoth'): 0.00040077246379866997,\n",
              " (0, 'app'): 0.0011689023502999547,\n",
              " (0, 'approach'): 0.0008780509078683185,\n",
              " (0, 'around'): 0.00044075383626297385,\n",
              " (0, 'ask'): 0.0007275109893818336,\n",
              " (0, 'assign'): 0.0013357385861271372,\n",
              " (0, 'assist'): 0.021951272696707963,\n",
              " (0, 'awar'): 0.001133208562097085,\n",
              " (0, 'away'): 0.0015739623983600588,\n",
              " (0, 'blind'): 0.001133208562097085,\n",
              " (0, 'case'): 0.0005318235449512629,\n",
              " (0, 'categori'): 0.0009895112232100815,\n",
              " (0, 'check'): 0.0006432838602930261,\n",
              " (0, 'chromecast'): 0.001133208562097085,\n",
              " (0, 'clari'): 0.013357385861271373,\n",
              " (0, 'code'): 0.0005844511751499774,\n",
              " (0, 'coffeemak'): 0.0013357385861271372,\n",
              " (0, 'colleagu'): 0.001133208562097085,\n",
              " (0, 'com'): 0.001133208562097085,\n",
              " (0, 'command'): 0.0013357385861271372,\n",
              " (0, 'comment'): 0.001133208562097085,\n",
              " (0, 'compat'): 0.0013357385861271372,\n",
              " (0, 'complet'): 0.0008780509078683185,\n",
              " (0, 'connect'): 0.0015739623983600588,\n",
              " (0, 'control'): 0.006926578562470571,\n",
              " (0, 'customiz'): 0.001133208562097085,\n",
              " (0, 'daili'): 0.0015739623983600588,\n",
              " (0, 'day'): 0.00032929352092121077,\n",
              " (0, 'degr'): 0.0029685336696302447,\n",
              " (0, 'demo'): 0.001133208562097085,\n",
              " (0, 'descript'): 0.0008780509078683185,\n",
              " (0, 'devic'): 0.0023378047005999094,\n",
              " (0, 'differ'): 0.00032929352092121077,\n",
              " (0, 'difficult'): 0.00226641712419417,\n",
              " (0, 'disabl'): 0.0009895112232100815,\n",
              " (0, 'door'): 0.01469312444739851,\n",
              " (0, 'doorbel'): 0.0026714771722542744,\n",
              " (0, 'easi'): 0.0007869811991800294,\n",
              " (0, 'easier'): 0.0007099828576079724,\n",
              " (0, 'eight'): 0.0,\n",
              " (0, 'eighteen'): 0.0,\n",
              " (0, 'eighti'): 0.0,\n",
              " (0, 'eleven'): 0.0,\n",
              " (0, 'email'): 0.0005844511751499774,\n",
              " (0, 'enabl'): 0.0007099828576079724,\n",
              " (0, 'engin'): 0.0005844511751499774,\n",
              " (0, 'entryway'): 0.0026714771722542744,\n",
              " (0, 'especi'): 0.0009895112232100815,\n",
              " (0, 'even'): 0.00040077246379866997,\n",
              " (0, 'exampl'): 0.0017533535254499319,\n",
              " (0, 'face'): 0.0008780509078683185,\n",
              " (0, 'featur'): 0.0013222615087889215,\n",
              " (0, 'feed'): 0.0013357385861271372,\n",
              " (0, 'feedback'): 0.0008780509078683185,\n",
              " (0, 'feel'): 0.0005318235449512629,\n",
              " (0, 'fi'): 0.001133208562097085,\n",
              " (0, 'fifteen'): 0.0,\n",
              " (0, 'fifti'): 0.0,\n",
              " (0, 'five'): 0.0,\n",
              " (0, 'fix'): 0.001133208562097085,\n",
              " (0, 'forecast'): 0.001133208562097085,\n",
              " (0, 'forti'): 0.0,\n",
              " (0, 'four'): 0.0,\n",
              " (0, 'fourteen'): 0.0,\n",
              " (0, 'free'): 0.0006432838602930261,\n",
              " (0, 'front'): 0.005937067339260489,\n",
              " (0, 'get'): 0.0001379886996144646,\n",
              " (0, 'good'): 0.0008815076725259477,\n",
              " (0, 'googl'): 0.002594755334235546,\n",
              " (0, 'googleaccess'): 0.0013357385861271372,\n",
              " (0, 'got'): 0.0007869811991800294,\n",
              " (0, 'happen'): 0.0005318235449512629,\n",
              " (0, 'hear'): 0.0005318235449512629,\n",
              " (0, 'hello'): 0.0026714771722542744,\n",
              " (0, 'help'): 0.00016122547066086464,\n",
              " (0, 'hey'): 0.001133208562097085,\n",
              " (0, 'hi'): 0.0005318235449512629,\n",
              " (0, 'high'): 0.0015739623983600588,\n",
              " (0, 'home'): 0.0070828307926202655,\n",
              " (0, 'hue'): 0.0013357385861271372,\n",
              " (0, 'hundr'): 0.0,\n",
              " (0, 'id'): 0.0007869811991800294,\n",
              " (0, 'im'): 0.0005335489369932646,\n",
              " (0, 'impair'): 0.0013357385861271372,\n",
              " (0, 'instal'): 0.001133208562097085,\n",
              " (0, 'instanc'): 0.0013357385861271372,\n",
              " (0, 'itll'): 0.001133208562097085,\n",
              " (0, 'kieran'): 0.0026714771722542744,\n",
              " (0, 'learn'): 0.0003637554946909168,\n",
              " (0, 'life'): 0.0005844511751499774,\n",
              " (0, 'light'): 0.00679925137258251,\n",
              " (0, 'like'): 0.0001379886996144646,\n",
              " (0, 'link'): 0.0006432838602930261,\n",
              " (0, 'list'): 0.0009895112232100815,\n",
              " (0, 'live'): 0.0010636470899025258,\n",
              " (0, 'lock'): 0.001133208562097085,\n",
              " (0, 'love'): 0.0006432838602930261,\n",
              " (0, 'low'): 0.0008780509078683185,\n",
              " (0, 'make'): 0.0003711923640684146,\n",
              " (0, 'manag'): 0.0005318235449512629,\n",
              " (0, 'might'): 0.0005844511751499774,\n",
              " (0, 'morn'): 0.0015739623983600588,\n",
              " (0, 'mountain'): 0.001133208562097085,\n",
              " (0, 'much'): 0.0006585870418424215,\n",
              " (0, 'multipl'): 0.0008780509078683185,\n",
              " (0, 'name'): 0.0011689023502999547,\n",
              " (0, 'need'): 0.00032929352092121077,\n",
              " (0, 'nest'): 0.0066786929306356865,\n",
              " (0, 'network'): 0.0008780509078683185,\n",
              " (0, 'news'): 0.0008780509078683185,\n",
              " (0, 'nine'): 0.0,\n",
              " (0, 'nineteen'): 0.0,\n",
              " (0, 'nineti'): 0.0,\n",
              " (0, 'ok'): 0.00679925137258251,\n",
              " (0, 'om'): 0.0013357385861271372,\n",
              " (0, 'one'): 0.0,\n",
              " (0, 'option'): 0.0008780509078683185,\n",
              " (0, 'patrick'): 0.012465294183067936,\n",
              " (0, 'peopl'): 0.00042243441640362996,\n",
              " (0, 'perform'): 0.0008780509078683185,\n",
              " (0, 'philip'): 0.0013357385861271372,\n",
              " (0, 'phone'): 0.0010636470899025258,\n",
              " (0, 'play'): 0.0006432838602930261,\n",
              " (0, 'product'): 0.0008015449275973399,\n",
              " (0, 'provid'): 0.0008780509078683185,\n",
              " (0, 'rang'): 0.0013357385861271372,\n",
              " (0, 'recogn'): 0.0008780509078683185,\n",
              " (0, 'requir'): 0.0006432838602930261,\n",
              " (0, 'rest'): 0.0008780509078683185,\n",
              " (0, 'right'): 0.0003637554946909168,\n",
              " (0, 'room'): 0.001756101815736637,\n",
              " (0, 'routin'): 0.004007215758381412,\n",
              " (0, 'say'): 0.0013222615087889215,\n",
              " (0, 'secur'): 0.0007099828576079724,\n",
              " (0, 'seri'): 0.0009895112232100815,\n",
              " (0, 'set'): 0.0021272941798050516,\n",
              " (0, 'seven'): 0.0,\n",
              " (0, 'seventeen'): 0.0,\n",
              " (0, 'seventi'): 0.0,\n",
              " (0, 'show'): 0.0008015449275973399,\n",
              " (0, 'sinc'): 0.0012865677205860522,\n",
              " (0, 'singl'): 0.0007869811991800294,\n",
              " (0, 'six'): 0.0,\n",
              " (0, 'sixteen'): 0.0,\n",
              " (0, 'sixti'): 0.0,\n",
              " (0, 'smart'): 0.005937067339260489,\n",
              " (0, 'someon'): 0.0014199657152159449,\n",
              " (0, 'speaker'): 0.0009895112232100815,\n",
              " (0, 'stream'): 0.001133208562097085,\n",
              " (0, 'stress'): 0.001133208562097085,\n",
              " (0, 'subscript'): 0.0013357385861271372,\n",
              " (0, 'sunni'): 0.0026714771722542744,\n",
              " (0, 'support'): 0.0031479247967201177,\n",
              " (0, 'sure'): 0.0012865677205860522,\n",
              " (0, 'take'): 0.0002970564973759704,\n",
              " (0, 'task'): 0.0009895112232100815,\n",
              " (0, 'team'): 0.0004842160625315202,\n",
              " (0, 'tell'): 0.0014199657152159449,\n",
              " (0, 'temperatur'): 0.00226641712419417,\n",
              " (0, 'ten'): 0.0,\n",
              " (0, 'thermostat'): 0.008014431516762824,\n",
              " (0, 'thing'): 0.0001855961820342073,\n",
              " (0, 'thirteen'): 0.0,\n",
              " (0, 'thirti'): 0.0,\n",
              " (0, 'thousand'): 0.0,\n",
              " (0, 'three'): 0.0,\n",
              " (0, 'time'): 0.0001379886996144646,\n",
              " (0, 'today'): 0.0011689023502999547,\n",
              " (0, 'turn'): 0.0028399314304318897,\n",
              " (0, 'tv'): 0.001979022446420163,\n",
              " (0, 'tweet'): 0.001133208562097085,\n",
              " (0, 'twelv'): 0.0,\n",
              " (0, 'twenti'): 0.0,\n",
              " (0, 'two'): 0.0,\n",
              " (0, 'unknown'): 0.0013357385861271372,\n",
              " (0, 'unlock'): 0.005342954344508549,\n",
              " (0, 'us'): 0.0006585870418424215,\n",
              " (0, 'use'): 0.0017734801772695112,\n",
              " (0, 'user'): 0.0014526481875945607,\n",
              " (0, 'via'): 0.0013357385861271372,\n",
              " (0, 'video'): 0.0014550219787636673,\n",
              " (0, 'view'): 0.0005844511751499774,\n",
              " (0, 'vision'): 0.0008780509078683185,\n",
              " (0, 'visit'): 0.001133208562097085,\n",
              " (0, 'voic'): 0.0007869811991800294,\n",
              " (0, 'wall'): 0.0013357385861271372,\n",
              " (0, 'way'): 0.0005335489369932646,\n",
              " (0, 'weather'): 0.0013357385861271372,\n",
              " (0, 'websit'): 0.0007869811991800294,\n",
              " (0, 'well'): 0.00023822381223292176,\n",
              " (0, 'wheelchair'): 0.0026714771722542744,\n",
              " (0, 'wi'): 0.001133208562097085,\n",
              " (0, 'wide'): 0.0013357385861271372,\n",
              " (0, 'within'): 0.0008780509078683185,\n",
              " (0, 'wonder'): 0.001133208562097085,\n",
              " (0, 'zero'): 0.0,\n",
              " (1, 'academ'): 0.0002923938060727367,\n",
              " (1, 'accel'): 0.00025531659606477426,\n",
              " (1, 'access'): 0.00027444535042980497,\n",
              " (1, 'account'): 0.00033196398719078187,\n",
              " (1, 'accu'): 0.0003446511985341576,\n",
              " (1, 'acquir'): 0.00025531659606477426,\n",
              " (1, 'across'): 0.00016598199359539094,\n",
              " (1, 'act'): 0.00022655727768428584,\n",
              " (1, 'actor'): 0.0013786047941366304,\n",
              " (1, 'actual'): 0.00010340848982148954,\n",
              " (1, 'adult'): 0.0003446511985341576,\n",
              " (1, 'advanc'): 0.0007659497881943228,\n",
              " (1, 'age'): 0.0002923938060727367,\n",
              " (1, 'agenc'): 0.0003446511985341576,\n",
              " (1, 'ahead'): 0.00045311455536857167,\n",
              " (1, 'ai'): 0.0017872161724534197,\n",
              " (1, 'alert'): 0.00025531659606477426,\n",
              " (1, 'alex'): 0.0003446511985341576,\n",
              " (1, 'alexa'): 0.0003446511985341576,\n",
              " (1, 'algorithm'): 0.00036638373010211653,\n",
              " (1, 'allow'): 0.0005488907008596099,\n",
              " (1, 'along'): 0.00020305920360335342,\n",
              " (1, 'alreadi'): 0.00033196398719078187,\n",
              " (1, 'also'): 0.0003441696648603286,\n",
              " (1, 'alter'): 0.0003446511985341576,\n",
              " (1, 'amazon'): 0.0003446511985341576,\n",
              " (1, 'america'): 0.0002923938060727367,\n",
              " (1, 'amongst'): 0.0003446511985341576,\n",
              " (1, 'amount'): 0.00025531659606477426,\n",
              " (1, 'anchor'): 0.0003446511985341576,\n",
              " (1, 'angl'): 0.0003446511985341576,\n",
              " (1, 'announc'): 0.0005106331921295485,\n",
              " (1, 'anonym'): 0.0003446511985341576,\n",
              " (1, 'anoth'): 0.00010340848982148954,\n",
              " (1, 'answer'): 0.00018319186505105827,\n",
              " (1, 'anticip'): 0.0002923938060727367,\n",
              " (1, 'anyon'): 0.0003016036222838651,\n",
              " (1, 'anyth'): 0.00020305920360335342,\n",
              " (1, 'anywh'): 0.00022655727768428584,\n",
              " (1, 'app'): 0.0003016036222838651,\n",
              " (1, 'appear'): 0.00040611840720670685,\n",
              " (1, 'appertain'): 0.0003446511985341576,\n",
              " (1, 'applau'): 0.00022655727768428584,\n",
              " (1, 'appli'): 0.00020305920360335342,\n",
              " (1, 'approach'): 0.00022655727768428584,\n",
              " (1, 'around'): 0.00034117380340191017,\n",
              " (1, 'artist'): 0.00025531659606477426,\n",
              " (1, 'athlet'): 0.0003446511985341576,\n",
              " (1, 'attack'): 0.0002923938060727367,\n",
              " (1, 'attempt'): 0.0002923938060727367,\n",
              " (1, 'audio'): 0.0023391504485818938,\n",
              " (1, 'authent'): 0.0005847876121454734,\n",
              " (1, 'automat'): 0.0002923938060727367,\n",
              " (1, 'avail'): 0.0006893023970683152,\n",
              " (1, 'back'): 0.0004548984045358803,\n",
              " (1, 'bacon'): 0.0003446511985341576,\n",
              " (1, 'baltimor'): 0.0003446511985341576,\n",
              " (1, 'base'): 0.0006091776108100602,\n",
              " (1, 'basi'): 0.0002923938060727367,\n",
              " (1, 'basic'): 0.00016598199359539094,\n",
              " (1, 'becam'): 0.00025531659606477426,\n",
              " (1, 'becom'): 0.00036638373010211653,\n",
              " (1, 'begin'): 0.00045311455536857167,\n",
              " (1, 'believ'): 0.0006796718330528575,\n",
              " (1, 'berkeley'): 0.0003446511985341576,\n",
              " (1, 'best'): 0.00011372460113397007,\n",
              " (1, 'better'): 0.00015080181114193256,\n",
              " (1, 'big'): 0.00013722267521490249,\n",
              " (1, 'biggest'): 0.00025531659606477426,\n",
              " (1, 'billion'): 0.00022655727768428584,\n",
              " (1, 'bit'): 0.00016598199359539094,\n",
              " (1, 'black'): 0.0002923938060727367,\n",
              " (1, 'bleep'): 0.0003446511985341576,\n",
              " (1, 'bless'): 0.0006893023970683152,\n",
              " (1, 'bring'): 0.0002498777051651253,\n",
              " (1, 'british'): 0.0003446511985341576,\n",
              " (1, 'bullet'): 0.0002923938060727367,\n",
              " (1, 'busi'): 0.0003016036222838651,\n",
              " (1, 'california'): 0.0002923938060727367,\n",
              " (1, 'call'): 0.0006204509389289372,\n",
              " (1, 'candid'): 0.00020305920360335342,\n",
              " (1, 'case'): 0.0005488907008596099,\n",
              " (1, 'categori'): 0.00025531659606477426,\n",
              " (1, 'cau'): 0.0006893023970683152,\n",
              " (1, 'caught'): 0.0003446511985341576,\n",
              " (1, 'celebr'): 0.0013786047941366304,\n",
              " (1, 'centuri'): 0.0003446511985341576,\n",
              " (1, 'ceo'): 0.0011695752242909469,\n",
              " (1, 'certainli'): 0.0006893023970683152,\n",
              " (1, 'challeng'): 0.001359343666105715,\n",
              " (1, 'chanc'): 0.00025531659606477426,\n",
              " (1, 'chang'): 0.00013722267521490249,\n",
              " (1, 'cheaper'): 0.0003446511985341576,\n",
              " (1, 'check'): 0.00016598199359539094,\n",
              " (1, 'children'): 0.0003446511985341576,\n",
              " (1, 'china'): 0.0006893023970683152,\n",
              " (1, 'clarif'): 0.00025531659606477426,\n",
              " (1, 'clark'): 0.0003446511985341576,\n",
              " (1, 'clearli'): 0.0002923938060727367,\n",
              " (1, 'click'): 0.00022655727768428584,\n",
              " (1, 'clip'): 0.0006893023970683152,\n",
              " (1, 'cnbc'): 0.0003446511985341576,\n",
              " (1, 'collect'): 0.00025531659606477426,\n",
              " (1, 'column'): 0.0002923938060727367,\n",
              " (1, 'combin'): 0.00016598199359539094,\n",
              " (1, 'come'): 0.0001877145251633498,\n",
              " (1, 'commun'): 9.38572625816749e-05,\n",
              " (1, 'compani'): 0.0020151105155616408,\n",
              " (1, 'compet'): 0.0003446511985341576,\n",
              " (1, 'complet'): 0.00022655727768428584,\n",
              " (1, 'comput'): 0.00016598199359539094,\n",
              " (1, 'concern'): 0.0011695752242909469,\n",
              " (1, 'conflict'): 0.0003446511985341576,\n",
              " (1, 'congresswoman'): 0.0003446511985341576,\n",
              " (1, 'consent'): 0.0003446511985341576,\n",
              " (1, 'consequ'): 0.0003446511985341576,\n",
              " (1, 'content'): 0.001359343666105715,\n",
              " (1, 'control'): 0.0007659497881943228,\n",
              " (1, 'cost'): 0.0003446511985341576,\n",
              " (1, 'could'): 0.0003102254694644686,\n",
              " (1, 'countermeasur'): 0.0003446511985341576,\n",
              " (1, 'countri'): 0.0005847876121454734,\n",
              " (1, 'coupl'): 0.00025531659606477426,\n",
              " (1, 'cover'): 0.0002923938060727367,\n",
              " (1, 'crackdown'): 0.0003446511985341576,\n",
              " (1, 'creat'): 0.0014477188575008535,\n",
              " (1, 'creation'): 0.00025531659606477426,\n",
              " (1, 'creator'): 0.0014619690303636836,\n",
              " (1, 'critic'): 0.00025531659606477426,\n",
              " (1, 'current'): 0.00025531659606477426,\n",
              " (1, 'custom'): 0.0005847876121454734,\n",
              " (1, 'cybersecur'): 0.0006893023970683152,\n",
              " (1, 'dairi'): 0.0003446511985341576,\n",
              " (1, 'danc'): 0.0002923938060727367,\n",
              " (1, 'darpa'): 0.0003446511985341576,\n",
              " (1, 'data'): 0.00010340848982148954,\n",
              " (1, 'day'): 0.00016993056550696327,\n",
              " (1, 'decept'): 0.0003446511985341576,\n",
              " (1, 'declar'): 0.0003446511985341576,\n",
              " (1, 'deep'): 0.01257293366112768,\n",
              " (1, 'defect'): 0.0006893023970683152,\n",
              " (1, 'defen'): 0.0003446511985341576,\n",
              " (1, 'defend'): 0.0003446511985341576,\n",
              " (1, 'deploy'): 0.0006893023970683152,\n",
              " (1, 'detect'): 0.0032163318668001037,\n",
              " (1, 'develop'): 0.0003102254694644686,\n",
              " (1, 'devic'): 0.00015080181114193256,\n",
              " (1, 'die'): 0.0003446511985341576,\n",
              " (1, 'differ'): 0.0006797222620278531,\n",
              " (1, 'dig'): 0.0002923938060727367,\n",
              " (1, 'digit'): 0.00020305920360335342,\n",
              " (1, 'disclo'): 0.0003446511985341576,\n",
              " (1, 'disinform'): 0.0003446511985341576,\n",
              " (1, 'dollar'): 0.0017543628364364203,\n",
              " (1, 'done'): 0.00012493885258256266,\n",
              " (1, 'dont'): 0.00027533573188826286,\n",
              " (1, 'doubl'): 0.0003446511985341576,\n",
              " (1, 'download'): 0.00020305920360335342,\n",
              " (1, 'dr'): 0.0006893023970683152,\n",
              " (1, 'dystopia'): 0.0003446511985341576,\n",
              " (1, 'earli'): 0.0002923938060727367,\n",
              " (1, 'earlier'): 0.0002923938060727367,\n",
              " (1, 'easi'): 0.00020305920360335342,\n",
              " (1, 'easier'): 0.00018319186505105827,\n",
              " (1, 'eastern'): 0.0003446511985341576,\n",
              " (1, 'eight'): 0.0,\n",
              " (1, 'eighteen'): 0.0,\n",
              " (1, 'eighti'): 0.0,\n",
              " (1, 'el'): 0.00045311455536857167,\n",
              " (1, 'elect'): 0.0013786047941366304,\n",
              " (1, 'eleven'): 0.0,\n",
              " (1, 'emerg'): 0.0006893023970683152,\n",
              " (1, 'enabl'): 0.00018319186505105827,\n",
              " (1, 'end'): 0.00018319186505105827,\n",
              " (1, 'enemi'): 0.0003446511985341576,\n",
              " (1, 'energi'): 0.00025531659606477426,\n",
              " (1, 'enforc'): 0.0010339535956024727,\n",
              " (1, 'engag'): 0.00025531659606477426,\n",
              " (1, 'enter'): 0.00022655727768428584,\n",
              " (1, 'enterpri'): 0.0003446511985341576,\n",
              " (1, 'entertain'): 0.0003446511985341576,\n",
              " (1, 'era'): 0.0003446511985341576,\n",
              " (1, 'essenti'): 0.00022655727768428584,\n",
              " (1, 'euro'): 0.0003446511985341576,\n",
              " (1, 'europ'): 0.0002923938060727367,\n",
              " (1, 'even'): 0.0005170424491074477,\n",
              " (1, 'everybodi'): 0.00020305920360335342,\n",
              " (1, 'everywh'): 0.0002923938060727367,\n",
              " (1, 'exampl'): 0.00015080181114193256,\n",
              " (1, 'execut'): 0.00025531659606477426,\n",
              " (1, 'expect'): 0.00020305920360335342,\n",
              " (1, 'eye'): 0.00025531659606477426,\n",
              " (1, 'fabula'): 0.0003446511985341576,\n",
              " (1, 'face'): 0.0011327863884214291,\n",
              " (1, 'facebook'): 0.0037911631838757334,\n",
              " (1, 'fact'): 0.00045311455536857167,\n",
              " (1, 'fade'): 0.0003446511985341576,\n",
              " (1, 'faith'): 0.0003446511985341576,\n",
              " (1, 'fake'): 0.014130699139900461,\n",
              " (1, 'fakin'): 0.0003446511985341576,\n",
              " (1, 'fal'): 0.0003446511985341576,\n",
              " (1, 'falsehood'): 0.0003446511985341576,\n",
              " (1, 'famili'): 0.00022655727768428584,\n",
              " (1, 'far'): 0.0005106331921295485,\n",
              " (1, 'farm'): 0.0003446511985341576,\n",
              " (1, 'favorit'): 0.00020305920360335342,\n",
              " (1, 'featur'): 0.00011372460113397007,\n",
              " (1, 'fiction'): 0.0002923938060727367,\n",
              " (1, 'fifteen'): 0.0,\n",
              " (1, 'fifti'): 0.0,\n",
              " (1, 'fight'): 0.0008771814182182102,\n",
              " (1, 'figur'): 0.00022655727768428584,\n",
              " (1, 'financ'): 0.0010339535956024727,\n",
              " (1, 'find'): 0.0001877145251633498,\n",
              " (1, 'fine'): 0.0002923938060727367,\n",
              " (1, 'firm'): 0.0003446511985341576,\n",
              " (1, 'first'): 0.0004136339592859582,\n",
              " (1, 'five'): 0.0,\n",
              " (1, 'fix'): 0.0002923938060727367,\n",
              " (1, 'fli'): 0.0003446511985341576,\n",
              " (1, 'flow'): 0.0003446511985341576,\n",
              " (1, 'follow'): 0.00018319186505105827,\n",
              " (1, 'footag'): 0.0003446511985341576,\n",
              " (1, 'foreign'): 0.0003446511985341576,\n",
              " (1, 'forti'): 0.0,\n",
              " (1, 'forward'): 0.00020305920360335342,\n",
              " (1, 'four'): 0.0,\n",
              " (1, 'fourteen'): 0.0,\n",
              " (1, 'fox'): 0.0003446511985341576,\n",
              " (1, 'frankenstein'): 0.0003446511985341576,\n",
              " (1, 'fraudul'): 0.0002923938060727367,\n",
              " (1, 'full'): 0.00022655727768428584,\n",
              " (1, 'fun'): 0.00040611840720670685,\n",
              " (1, 'futur'): 0.00018319186505105827,\n",
              " (1, 'game'): 0.00022655727768428584,\n",
              " (1, 'gener'): 0.0006091776108100602,\n",
              " (1, 'genuin'): 0.0003446511985341576,\n",
              " (1, 'geometr'): 0.0003446511985341576,\n",
              " (1, 'get'): 0.00010681275033953788,\n",
              " (1, 'giant'): 0.0003446511985341576,\n",
              " (1, 'given'): 0.00022655727768428584,\n",
              " (1, 'global'): 0.00025531659606477426,\n",
              " (1, 'globe'): 0.0002923938060727367,\n",
              " (1, 'go'): 0.00021799554108520875,\n",
              " (1, 'god'): 0.0005106331921295485,\n",
              " (1, 'gon'): 0.00036638373010211653,\n",
              " (1, 'good'): 0.00022744920226794015,\n",
              " (1, 'googl'): 5.738626309509211e-05,\n",
              " (1, 'govern'): 0.0006893023970683152,\n",
              " (1, 'graft'): 0.0003446511985341576,\n",
              " (1, 'great'): 0.00018319186505105827,\n",
              " (1, 'ground'): 0.0002923938060727367,\n",
              " (1, 'guidelin'): 0.0006893023970683152,\n",
              " (1, 'half'): 0.00022655727768428584,\n",
              " (1, 'halt'): 0.0003446511985341576,\n",
              " (1, 'hand'): 0.00045311455536857167,\n",
              " (1, 'handl'): 0.00025531659606477426,\n",
              " (1, 'happen'): 0.00013722267521490249,\n",
              " (1, 'hard'): 0.00013722267521490249,\n",
              " (1, 'hasnt'): 0.0003446511985341576,\n",
              " (1, 'havent'): 0.00022655727768428584,\n",
              " (1, 'hear'): 0.00013722267521490249,\n",
              " (1, 'heist'): 0.0003446511985341576,\n",
              " (1, 'held'): 0.0003446511985341576,\n",
              " (1, 'help'): 8.319974024050806e-05,\n",
              " (1, 'henc'): 0.0003446511985341576,\n",
              " (1, 'hey'): 0.0002923938060727367,\n",
              " (1, 'high'): 0.00020305920360335342,\n",
              " (1, 'hollywood'): 0.0003446511985341576,\n",
              " (1, 'hope'): 0.00015080181114193256,\n",
              " (1, 'host'): 0.00022655727768428584,\n",
              " (1, 'hostil'): 0.0003446511985341576,\n",
              " (1, 'hou'): 0.0005106331921295485,\n",
              " (1, 'hour'): 0.0009062291107371433,\n",
              " (1, 'huge'): 0.0005847876121454734,\n",
              " (1, 'hundr'): 0.0,\n",
              " (1, 'idea'): 9.38572625816749e-05,\n",
              " (1, 'ill'): 0.00020305920360335342,\n",
              " (1, 'illeg'): 0.0006893023970683152,\n",
              " (1, 'imag'): 0.0006091776108100602,\n",
              " (1, 'imagin'): 0.00040611840720670685,\n",
              " (1, 'imf'): 0.0003446511985341576,\n",
              " (1, 'imperson'): 0.0002923938060727367,\n",
              " (1, 'import'): 8.496528275348164e-05,\n",
              " (1, 'impress'): 0.0005847876121454734,\n",
              " (1, 'includ'): 0.0004979459807861728,\n",
              " (1, 'individu'): 0.00025531659606477426,\n",
              " (1, 'inflam'): 0.0003446511985341576,\n",
              " (1, 'influenc'): 0.0006893023970683152,\n",
              " (1, 'inform'): 0.0001877145251633498,\n",
              " (1, 'innov'): 0.00018319186505105827,\n",
              " (1, 'insidi'): 0.0003446511985341576,\n",
              " (1, 'instabl'): 0.0003446511985341576,\n",
              " (1, 'instagram'): 0.0006893023970683152,\n",
              " (1, 'institut'): 0.0002923938060727367,\n",
              " (1, 'intend'): 0.0003446511985341576,\n",
              " (1, 'intent'): 0.0006893023970683152,\n",
              " (1, 'interest'): 0.00018319186505105827,\n",
              " (1, 'interview'): 0.00018319186505105827,\n",
              " (1, 'introduc'): 0.00036638373010211653,\n",
              " (1, 'invit'): 0.0002923938060727367,\n",
              " (1, 'involv'): 0.0002923938060727367,\n",
              " (1, 'itll'): 0.0005847876121454734,\n",
              " (1, 'jackson'): 0.0003446511985341576,\n",
              " (1, 'jail'): 0.0003446511985341576,\n",
              " (1, 'jeff'): 0.0002923938060727367,\n",
              " (1, 'jimmi'): 0.0003446511985341576,\n",
              " (1, 'job'): 0.00016598199359539094,\n",
              " (1, 'june'): 0.0003446511985341576,\n",
              " (1, 'kardashian'): 0.0003446511985341576,\n",
              " (1, 'keep'): 0.00015080181114193256,\n",
              " (1, 'kim'): 0.0003446511985341576,\n",
              " (1, 'kimmel'): 0.0003446511985341576,\n",
              " (1, 'kind'): 0.0007327674602042331,\n",
              " (1, 'know'): 0.00028732843647311486,\n",
              " (1, 'known'): 0.0013786047941366304,\n",
              " (1, 'landscap'): 0.0003446511985341576,\n",
              " (1, 'last'): 0.0005495755951531747,\n",
              " (1, 'launch'): 0.0007659497881943228,\n",
              " (1, 'law'): 0.0010339535956024727,\n",
              " (1, 'lawsuit'): 0.0003446511985341576,\n",
              " (1, 'leader'): 0.0006796718330528575,\n",
              " (1, 'learn'): 0.0001877145251633498,\n",
              " (1, 'least'): 0.00020305920360335342,\n",
              " (1, 'legal'): 0.0002923938060727367,\n",
              " (1, 'let'): 0.00012493885258256266,\n",
              " (1, 'licen'): 0.0003446511985341576,\n",
              " (1, 'like'): 0.0008901062528294823,\n",
              " (1, 'littl'): 0.0005488907008596099,\n",
              " (1, 'live'): 0.00013722267521490249,\n",
              " (1, 'london'): 0.0002923938060727367,\n",
              " (1, 'longer'): 0.00025531659606477426,\n",
              " (1, 'look'): 0.00015329478225201517,\n",
              " (1, 'lost'): 0.0002923938060727367,\n",
              " (1, 'lot'): 0.0007496331154953758,\n",
              " (1, 'love'): 0.0004979459807861728,\n",
              " (1, 'low'): 0.00022655727768428584,\n",
              " (1, 'made'): 0.00018319186505105827,\n",
              " (1, 'major'): 0.0002923938060727367,\n",
              " (1, 'make'): 9.57761454910383e-05,\n",
              " (1, 'malici'): 0.0003446511985341576,\n",
              " (1, 'manipul'): 0.0008771814182182102,\n",
              " (1, 'mark'): 0.0002923938060727367,\n",
              " (1, 'market'): 0.0017543628364364203,\n",
              " (1, 'materi'): 0.0008771814182182102,\n",
              " (1, 'matur'): 0.0003446511985341576,\n",
              " (1, 'may'): 0.00013722267521490249,\n",
              " (1, 'mayb'): 0.00015080181114193256,\n",
              " (1, 'mean'): 0.00015080181114193256,\n",
              " (1, 'meanwhil'): 0.0003446511985341576,\n",
              " (1, 'media'): 0.0011695752242909469,\n",
              " (1, 'michaela'): 0.0003446511985341576,\n",
              " (1, 'microsoft'): 0.0006893023970683152,\n",
              " (1, 'might'): 0.00015080181114193256,\n",
              " (1, 'million'): 0.0012183552216201204,\n",
              " (1, 'mind'): 0.00045311455536857167,\n",
              " (1, 'minut'): 0.00020305920360335342,\n",
              " (1, 'misinform'): 0.0006893023970683152,\n",
              " (1, 'mislead'): 0.0003446511985341576,\n",
              " (1, 'mistak'): 0.0003446511985341576,\n",
              " (1, 'misu'): 0.0003446511985341576,\n",
              " (1, 'monet'): 0.0005847876121454734,\n",
              " (1, 'monetari'): 0.0003446511985341576,\n",
              " (1, 'money'): 0.0010339535956024727,\n",
              " (1, 'month'): 0.0009062291107371433,\n",
              " (1, 'monthli'): 0.0003446511985341576,\n",
              " (1, 'motiv'): 0.0003446511985341576,\n",
              " (1, 'move'): 0.00013722267521490249,\n",
              " (1, 'movement'): 0.0002923938060727367,\n",
              " (1, 'movi'): 0.0002923938060727367,\n",
              " (1, 'much'): 0.00016993056550696327,\n",
              " (1, 'music'): 0.00010899777054260437,\n",
              " (1, 'na'): 0.00036638373010211653,\n",
              " (1, 'nanci'): 0.0003446511985341576,\n",
              " (1, 'nation'): 0.0005847876121454734,\n",
              " (1, 'need'): 0.00016993056550696327,\n",
              " (1, 'nefari'): 0.0003446511985341576,\n",
              " (1, 'network'): 0.00022655727768428584,\n",
              " (1, 'neural'): 0.0003446511985341576,\n",
              " (1, 'new'): 0.0003832369556300379,\n",
              " (1, 'newest'): 0.0002923938060727367,\n",
              " (1, 'news'): 0.00022655727768428584,\n",
              " (1, 'next'): 0.00015080181114193256,\n",
              " (1, 'nine'): 0.0,\n",
              " (1, 'nineteen'): 0.0,\n",
              " (1, 'nineti'): 0.0,\n",
              " (1, 'normal'): 0.0003446511985341576,\n",
              " (1, 'noth'): 0.0002923938060727367,\n",
              " (1, 'notic'): 0.00018319186505105827,\n",
              " (1, 'novel'): 0.0003446511985341576,\n",
              " (1, 'offer'): 0.00022655727768428584,\n",
              " (1, 'oh'): 0.00020305920360335342,\n",
              " (1, 'old'): 0.00025531659606477426,\n",
              " (1, 'one'): 0.0,\n",
              " (1, 'onlin'): 0.0007659497881943228,\n",
              " (1, 'onto'): 0.00022655727768428584,\n",
              " (1, 'open'): 0.0004116680256447074,\n",
              " (1, 'opportun'): 0.00022655727768428584,\n",
              " (1, 'organ'): 0.00020305920360335342,\n",
              " (1, 'outlet'): 0.0003446511985341576,\n",
              " (1, 'outrag'): 0.0003446511985341576,\n",
              " (1, 'ownership'): 0.0003446511985341576,\n",
              " (1, 'pace'): 0.0002923938060727367,\n",
              " (1, 'paid'): 0.0002923938060727367,\n",
              " (1, 'part'): 0.0003754290503266996,\n",
              " (1, 'particip'): 0.00022655727768428584,\n",
              " (1, 'partner'): 0.00025531659606477426,\n",
              " (1, 'pass'): 0.0005106331921295485,\n",
              " (1, 'patent'): 0.0002923938060727367,\n",
              " (1, 'pay'): 0.0005847876121454734,\n",
              " (1, 'pelosi'): 0.0003446511985341576,\n",
              " (1, 'pentagon'): 0.0003446511985341576,\n",
              " (1, 'peopl'): 0.0008174832790695326,\n",
              " (1, 'per'): 0.0002923938060727367,\n",
              " (1, 'perform'): 0.00022655727768428584,\n",
              " (1, 'perpetr'): 0.0003446511985341576,\n",
              " (1, 'person'): 0.0001877145251633498,\n",
              " (1, 'phone'): 0.00013722267521490249,\n",
              " (1, 'piec'): 0.00022655727768428584,\n",
              " (1, 'place'): 0.00015080181114193256,\n",
              " (1, 'platform'): 0.0005495755951531747,\n",
              " (1, 'player'): 0.00025531659606477426,\n",
              " (1, 'plenti'): 0.0002923938060727367,\n",
              " (1, 'point'): 0.00045240543342579766,\n",
              " (1, 'polici'): 0.0010339535956024727,\n",
              " (1, 'polit'): 0.0006893023970683152,\n",
              " (1, 'popular'): 0.0002923938060727367,\n",
              " (1, 'porn'): 0.0010339535956024727,\n",
              " (1, 'pornographi'): 0.0003446511985341576,\n",
              " (1, 'possibl'): 0.00012493885258256266,\n",
              " (1, 'post'): 0.0005847876121454734,\n",
              " (1, 'potenti'): 0.0011695752242909469,\n",
              " (1, 'power'): 0.00020305920360335342,\n",
              " (1, 'practic'): 0.00045311455536857167,\n",
              " (1, 'pre'): 0.0003446511985341576,\n",
              " (1, 'presid'): 0.0003446511985341576,\n",
              " (1, 'prevent'): 0.00025531659606477426,\n",
              " (1, 'privaci'): 0.0003446511985341576,\n",
              " (1, 'prize'): 0.0006893023970683152,\n",
              " (1, 'proactiv'): 0.0003446511985341576,\n",
              " (1, 'probabl'): 0.00036638373010211653,\n",
              " (1, 'problem'): 0.00016598199359539094,\n",
              " (1, 'process'): 0.0005495755951531747,\n",
              " (1, 'produc'): 0.0005106331921295485,\n",
              " (1, 'product'): 0.0002068169796429791,\n",
              " (1, 'profit'): 0.0003446511985341576,\n",
              " (1, 'program'): 0.00012493885258256266,\n",
              " (1, 'prohibit'): 0.0003446511985341576,\n",
              " (1, 'project'): 0.0003748165577476879,\n",
              " (1, 'propag'): 0.0003446511985341576,\n",
              " (1, 'protect'): 0.00025531659606477426,\n",
              " (1, 'proven'): 0.0003446511985341576,\n",
              " (1, 'public'): 0.0006032072445677302,\n",
              " (1, 'publicli'): 0.0003446511985341576,\n",
              " (1, 'publish'): 0.00025531659606477426,\n",
              " (1, 'pull'): 0.0005847876121454734,\n",
              " (1, 'punish'): 0.0003446511985341576,\n",
              " (1, 'put'): 0.0006032072445677302,\n",
              " (1, 'question'): 0.00045240543342579766,\n",
              " (1, 'quickli'): 0.00020305920360335342,\n",
              " (1, 'quit'): 0.00045311455536857167,\n",
              " (1, 'rascal'): 0.0006893023970683152,\n",
              " (1, 'react'): 0.0003446511985341576,\n",
              " (1, 'readi'): 0.00018319186505105827,\n",
              " (1, 'readili'): 0.0003446511985341576,\n",
              " (1, 'real'): 0.0009958919615723457,\n",
              " (1, 'realist'): 0.0003446511985341576,\n",
              " (1, 'realli'): 0.0003441696648603286,\n",
              " (1, 'reason'): 0.00020305920360335342,\n",
              " (1, 'recent'): 0.00020305920360335342,\n",
              " (1, 'record'): 0.00022655727768428584,\n",
              " (1, 'recour'): 0.0003446511985341576,\n",
              " (1, 'refin'): 0.0002923938060727367,\n",
              " (1, 'refu'): 0.0010339535956024727,\n",
              " (1, 'regist'): 0.0003446511985341576,\n",
              " (1, 'registri'): 0.0006893023970683152,\n",
              " (1, 'regul'): 0.0003446511985341576,\n",
              " (1, 'regular'): 0.0002923938060727367,\n",
              " (1, 'regularli'): 0.0003446511985341576,\n",
              " (1, 'remain'): 0.0002923938060727367,\n",
              " (1, 'remov'): 0.0008771814182182102,\n",
              " (1, 'repercuss'): 0.0003446511985341576,\n",
              " (1, 'reportedli'): 0.0003446511985341576,\n",
              " (1, 'reput'): 0.0003446511985341576,\n",
              " (1, 'request'): 0.0002923938060727367,\n",
              " (1, 'requir'): 0.00016598199359539094,\n",
              " (1, 'research'): 0.0011327863884214291,\n",
              " (1, 'resolv'): 0.0002923938060727367,\n",
              " (1, 'resourc'): 0.00020305920360335342,\n",
              " (1, 'respon'): 0.00020305920360335342,\n",
              " (1, 'reveng'): 0.0006893023970683152,\n",
              " (1, 'revenu'): 0.0002923938060727367,\n",
              " (1, 'review'): 0.00020305920360335342,\n",
              " (1, 'right'): 0.0002815717877450247,\n",
              " (1, 'role'): 0.00022655727768428584,\n",
              " (1, 'rout'): 0.0003446511985341576,\n",
              " (1, 'ruin'): 0.0003446511985341576,\n",
              " (1, 'run'): 0.00016598199359539094,\n",
              " (1, 'sam'): 0.0003446511985341576,\n",
              " (1, 'samuel'): 0.0003446511985341576,\n",
              " (1, 'satir'): 0.0006893023970683152,\n",
              " (1, 'say'): 0.0005686230056698503,\n",
              " (1, 'scam'): 0.0010339535956024727,\n",
              " (1, 'screen'): 0.00016598199359539094,\n",
              " (1, 'second'): 0.00018319186505105827,\n",
              " (1, 'secur'): 0.00018319186505105827,\n",
              " (1, 'see'): 0.0003832369556300379,\n",
              " (1, 'seem'): 0.00025531659606477426,\n",
              " (1, 'seen'): 0.00040611840720670685,\n",
              " (1, 'segment'): 0.0003446511985341576,\n",
              " (1, 'sen'): 0.00020305920360335342,\n",
              " (1, 'septemb'): 0.0003446511985341576,\n",
              " (1, 'servic'): 0.00018319186505105827,\n",
              " (1, 'seven'): 0.0,\n",
              " (1, 'seventeen'): 0.0,\n",
              " (1, 'seventi'): 0.0,\n",
              " (1, 'ship'): 0.0002923938060727367,\n",
              " (1, 'short'): 0.00025531659606477426,\n",
              " (1, 'shut'): 0.0003446511985341576,\n",
              " (1, 'side'): 0.0005847876121454734,\n",
              " (1, 'signif'): 0.0005847876121454734,\n",
              " (1, 'silicon'): 0.0003446511985341576,\n",
              " (1, 'silver'): 0.0003446511985341576,\n",
              " (1, 'sinc'): 0.00016598199359539094,\n",
              " (1, 'sit'): 0.0002923938060727367,\n",
              " (1, 'six'): 0.0,\n",
              " (1, 'sixteen'): 0.0,\n",
              " (1, 'sixti'): 0.0,\n",
              " (1, 'small'): 0.0002498777051651253,\n",
              " (1, 'social'): 0.0007659497881943228,\n",
              " (1, 'sole'): 0.0003446511985341576,\n",
              " (1, 'solut'): 0.00040611840720670685,\n",
              " (1, 'somebodi'): 0.0011695752242909469,\n",
              " (1, 'someth'): 0.0008233360512894148,\n",
              " (1, 'sorri'): 0.0005847876121454734,\n",
              " (1, 'sort'): 0.00016598199359539094,\n",
              " (1, 'sound'): 0.00045311455536857167,\n",
              " (1, 'sourc'): 0.0006796718330528575,\n",
              " (1, 'space'): 0.00016598199359539094,\n",
              " (1, 'speak'): 0.00016598199359539094,\n",
              " (1, 'speaker'): 0.0005106331921295485,\n",
              " (1, 'specif'): 0.00020305920360335342,\n",
              " (1, 'speech'): 0.00025531659606477426,\n",
              " (1, 'spend'): 0.00040611840720670685,\n",
              " (1, 'spoof'): 0.0003446511985341576,\n",
              " (1, 'spot'): 0.0006893023970683152,\n",
              " (1, 'spread'): 0.0010339535956024727,\n",
              " (1, 'stabil'): 0.0003446511985341576,\n",
              " (1, 'stage'): 0.00025531659606477426,\n",
              " (1, 'stake'): 0.0006893023970683152,\n",
              " (1, 'start'): 0.0003102254694644686,\n",
              " (1, 'startup'): 0.0003446511985341576,\n",
              " (1, 'state'): 0.0006893023970683152,\n",
              " (1, 'statement'): 0.0002923938060727367,\n",
              " (1, 'station'): 0.0003446511985341576,\n",
              " (1, 'stein'): 0.0003446511985341576,\n",
              " (1, 'step'): 0.00020305920360335342,\n",
              " (1, 'still'): 0.00016598199359539094,\n",
              " (1, 'stop'): 0.00022655727768428584,\n",
              " (1, 'studio'): 0.0006893023970683152,\n",
              " (1, 'stuff'): 0.00045311455536857167,\n",
              " (1, 'submit'): 0.00022655727768428584,\n",
              " (1, 'sue'): 0.0003446511985341576,\n",
              " (1, 'suit'): 0.0002923938060727367,\n",
              " (1, 'surviv'): 0.0003446511985341576,\n",
              " (1, 'swap'): 0.0006893023970683152,\n",
              " (1, 'symantec'): 0.0006893023970683152,\n",
              " (1, 'system'): 0.0003016036222838651,\n",
              " (1, 'tactic'): 0.0003446511985341576,\n",
              " (1, 'take'): 0.00030658956450403034,\n",
              " (1, 'taken'): 0.0006893023970683152,\n",
              " (1, 'talent'): 0.0002923938060727367,\n",
              " (1, 'tech'): 0.00040611840720670685,\n",
              " (1, 'technolog'): 0.0008745719680779384,\n",
              " (1, 'ten'): 0.0,\n",
              " (1, 'term'): 0.001021266384259097,\n",
              " (1, 'test'): 0.00020305920360335342,\n",
              " (1, 'text'): 0.00045311455536857167,\n",
              " (1, 'theyr'): 0.00013722267521490249,\n",
              " (1, 'theyv'): 0.00020305920360335342,\n",
              " (1, 'thing'): 0.000335216509218634,\n",
              " (1, 'think'): 0.0003269933116278131,\n",
              " (1, 'thinker'): 0.0003446511985341576,\n",
              " (1, 'thirteen'): 0.0,\n",
              " (1, 'thirti'): 0.0,\n",
              " (1, 'though'): 0.0002923938060727367,\n",
              " (1, 'thought'): 0.00016598199359539094,\n",
              " (1, 'thousand'): 0.0,\n",
              " (1, 'threat'): 0.0002923938060727367,\n",
              " (1, 'three'): 0.0,\n",
              " (1, 'time'): 0.00017802125056589648,\n",
              " (1, 'tirelessli'): 0.0003446511985341576,\n",
              " (1, 'today'): 0.00015080181114193256,\n",
              " (1, 'told'): 0.00025531659606477426,\n",
              " (1, 'tool'): 0.0005495755951531747,\n",
              " (1, 'top'): 0.0006091776108100602,\n",
              " (1, 'total'): 0.0003446511985341576,\n",
              " (1, 'toward'): 0.0002923938060727367,\n",
              " (1, 'trace'): 0.0003446511985341576,\n",
              " (1, 'transfer'): 0.0010339535956024727,\n",
              " (1, 'tri'): 0.0002068169796429791,\n",
              " (1, 'trick'): 0.00025531659606477426,\n",
              " (1, 'true'): 0.0002923938060727367,\n",
              " (1, 'trump'): 0.0006893023970683152,\n",
              " (1, 'twelv'): 0.0,\n",
              " (1, 'twenti'): 0.0,\n",
              " (1, 'twitter'): 0.0011695752242909469,\n",
              " (1, 'two'): 0.0,\n",
              " (1, 'type'): 0.00013722267521490249,\n",
              " (1, 'uk'): 0.0002923938060727367,\n",
              " (1, 'unclear'): 0.0003446511985341576,\n",
              " (1, 'uninterrupt'): 0.0003446511985341576,\n",
              " (1, 'uniqu'): 0.00025531659606477426,\n",
              " (1, 'unit'): 0.0002923938060727367,\n",
              " (1, 'updat'): 0.00020305920360335342,\n",
              " (1, 'upload'): 0.00025531659606477426,\n",
              " (1, 'us'): 0.0004248264137674082,\n",
              " (1, 'use'): 0.0005407983115633024,\n",
              " (1, 'user'): 0.0002498777051651253,\n",
              " (1, 'valley'): 0.0003446511985341576,\n",
              " (1, 'verif'): 0.0002923938060727367,\n",
              " (1, 'victim'): 0.0002923938060727367,\n",
              " (1, 'video'): 0.0014078589387251234,\n",
              " (1, 'violat'): 0.0006893023970683152,\n",
              " (1, 'violent'): 0.0003446511985341576,\n",
              " (1, 'vip'): 0.0003446511985341576,\n",
              " (1, 'viral'): 0.0006893023970683152,\n",
              " (1, 'virtual'): 0.0005106331921295485,\n",
              " (1, 'voic'): 0.0006091776108100602,\n",
              " (1, 'walk'): 0.00018319186505105827,\n",
              " (1, 'want'): 8.319974024050806e-05,\n",
              " (1, 'way'): 0.00027533573188826286,\n",
              " (1, 'weapon'): 0.0003446511985341576,\n",
              " (1, 'web'): 0.00018319186505105827,\n",
              " (1, 'websit'): 0.00020305920360335342,\n",
              " (1, 'week'): 0.00020305920360335342,\n",
              " (1, 'well'): 0.00012293441734509845,\n",
              " (1, 'went'): 0.00022655727768428584,\n",
              " (1, 'werent'): 0.00025531659606477426,\n",
              " (1, 'whatev'): 0.0005106331921295485,\n",
              " (1, 'whether'): 0.0012183552216201204,\n",
              " (1, 'white'): 0.0005847876121454734,\n",
              " (1, 'whoever'): 0.0003446511985341576,\n",
              " (1, 'without'): 0.001021266384259097,\n",
              " (1, 'wor'): 0.0003446511985341576,\n",
              " (1, 'word'): 0.00033196398719078187,\n",
              " (1, 'work'): 0.00032043825101861365,\n",
              " (1, 'would'): 0.0009605587265043172,\n",
              " (1, 'wouldnt'): 0.0002923938060727367,\n",
              " (1, 'wrong'): 0.0003446511985341576,\n",
              " (1, 'year'): 0.0006861133760745124,\n",
              " (1, 'yet'): 0.00045311455536857167,\n",
              " (1, 'york'): 0.00025531659606477426,\n",
              " (1, 'youd'): 0.00022655727768428584,\n",
              " (1, 'youtub'): 0.00045311455536857167,\n",
              " (1, 'yvett'): 0.0003446511985341576,\n",
              " (1, 'zero'): 0.0,\n",
              " (1, 'zuckerberg'): 0.0003446511985341576,\n",
              " (2, 'abl'): 0.0002694186090903498,\n",
              " (2, 'actual'): 0.0002968355429245051,\n",
              " (2, 'adapt'): 0.0008393205850234422,\n",
              " (2, 'advic'): 0.0006503358925461981,\n",
              " (2, 'aim'): 0.0008393205850234422,\n",
              " (2, 'also'): 0.00019758878502784235,\n",
              " (2, 'alway'): 0.0014841777146225256,\n",
              " (2, 'ambigu'): 0.0014657798511776422,\n",
              " (2, 'anoth'): 0.0002968355429245051,\n",
              " (2, 'answer'): 0.0010517097158203189,\n",
              " (2, 'approach'): 0.0006503358925461981,\n",
              " (2, 'area'): 0.0008393205850234422,\n",
              " (2, 'arent'): 0.0005828843362036326,\n",
              " (2, 'around'): 0.00032644808738382307,\n",
              " (2, 'art'): 0.0007328899255888211,\n",
              " (2, 'ask'): 0.0005388372181806997,\n",
              " (2, 'aspect'): 0.0009893261744086308,\n",
              " (2, 'authent'): 0.0008393205850234422,\n",
              " (2, 'avoid'): 0.0009893261744086308,\n",
              " (2, 'balanc'): 0.0025179617550703266,\n",
              " (2, 'behind'): 0.0008393205850234422,\n",
              " (2, 'best'): 0.0006528961747676461,\n",
              " (2, 'better'): 0.00043287874681844415,\n",
              " (2, 'big'): 0.00039389964372638856,\n",
              " (2, 'box'): 0.0009893261744086308,\n",
              " (2, 'build'): 0.0002968355429245051,\n",
              " (2, 'cant'): 0.00047645367676901155,\n",
              " (2, 'care'): 0.0005828843362036326,\n",
              " (2, 'challeng'): 0.0013006717850923962,\n",
              " (2, 'chang'): 0.00039389964372638856,\n",
              " (2, 'choic'): 0.0009893261744086308,\n",
              " (2, 'clarif'): 0.0007328899255888211,\n",
              " (2, 'clear'): 0.0014657798511776422,\n",
              " (2, 'come'): 0.0002694186090903498,\n",
              " (2, 'commun'): 0.001347093045451749,\n",
              " (2, 'complex'): 0.0016786411700468844,\n",
              " (2, 'compon'): 0.0009893261744086308,\n",
              " (2, 'concret'): 0.0009893261744086308,\n",
              " (2, 'congratul'): 0.0008393205850234422,\n",
              " (2, 'consist'): 0.0005828843362036326,\n",
              " (2, 'could'): 0.0002968355429245051,\n",
              " (2, 'creat'): 0.0002968355429245051,\n",
              " (2, 'creativ'): 0.0007328899255888211,\n",
              " (2, 'critic'): 0.0007328899255888211,\n",
              " (2, 'dark'): 0.0009893261744086308,\n",
              " (2, 'day'): 0.00024389405434120014,\n",
              " (2, 'deci'): 0.0033572823400937687,\n",
              " (2, 'defin'): 0.0009893261744086308,\n",
              " (2, 'deleg'): 0.0009893261744086308,\n",
              " (2, 'delib'): 0.0008393205850234422,\n",
              " (2, 'deliv'): 0.0016786411700468844,\n",
              " (2, 'develop'): 0.0005936710858490102,\n",
              " (2, 'didnt'): 0.0005828843362036326,\n",
              " (2, 'differ'): 0.0004877881086824003,\n",
              " (2, 'diver'): 0.0008393205850234422,\n",
              " (2, 'done'): 0.0003586387558964497,\n",
              " (2, 'dont'): 0.00019758878502784235,\n",
              " (2, 'driven'): 0.0019786523488172615,\n",
              " (2, 'eight'): 0.0,\n",
              " (2, 'eighteen'): 0.0,\n",
              " (2, 'eighti'): 0.0,\n",
              " (2, 'eleven'): 0.0,\n",
              " (2, 'elimin'): 0.0008393205850234422,\n",
              " (2, 'encourag'): 0.0005828843362036326,\n",
              " (2, 'end'): 0.0010517097158203189,\n",
              " (2, 'enough'): 0.0006503358925461981,\n",
              " (2, 'ensur'): 0.0005828843362036326,\n",
              " (2, 'environ'): 0.0011657686724072653,\n",
              " (2, 'escal'): 0.0009893261744086308,\n",
              " (2, 'evalu'): 0.0016786411700468844,\n",
              " (2, 'even'): 0.0002968355429245051,\n",
              " (2, 'everi'): 0.0009793442621514692,\n",
              " (2, 'exampl'): 0.0008657574936368883,\n",
              " (2, 'expect'): 0.001748653008610898,\n",
              " (2, 'explain'): 0.0019510076776385946,\n",
              " (2, 'express'): 0.0005828843362036326,\n",
              " (2, 'extern'): 0.0009893261744086308,\n",
              " (2, 'fellow'): 0.0008393205850234422,\n",
              " (2, 'fifteen'): 0.0,\n",
              " (2, 'fifti'): 0.0,\n",
              " (2, 'find'): 0.0002694186090903498,\n",
              " (2, 'five'): 0.0,\n",
              " (2, 'flexibl'): 0.0009893261744086308,\n",
              " (2, 'focu'): 0.0008657574936368883,\n",
              " (2, 'form'): 0.0005828843362036326,\n",
              " (2, 'formul'): 0.0009893261744086308,\n",
              " (2, 'forti'): 0.0,\n",
              " (2, 'forward'): 0.0005828843362036326,\n",
              " (2, 'four'): 0.0,\n",
              " (2, 'fourteen'): 0.0,\n",
              " (2, 'get'): 0.00030660752122992026,\n",
              " (2, 'give'): 0.00039389964372638856,\n",
              " (2, 'global'): 0.0007328899255888211,\n",
              " (2, 'goal'): 0.0010517097158203189,\n",
              " (2, 'goe'): 0.0005258548579101594,\n",
              " (2, 'googl'): 0.00043927489491164844,\n",
              " (2, 'googler'): 0.002198669776766463,\n",
              " (2, 'grown'): 0.0009893261744086308,\n",
              " (2, 'hand'): 0.0013006717850923962,\n",
              " (2, 'handl'): 0.0007328899255888211,\n",
              " (2, 'hear'): 0.0007877992874527771,\n",
              " (2, 'help'): 0.00047765207882064523,\n",
              " (2, 'humbl'): 0.0009893261744086308,\n",
              " (2, 'hundr'): 0.0,\n",
              " (2, 'idea'): 0.0002694186090903498,\n",
              " (2, 'identifi'): 0.0006503358925461981,\n",
              " (2, 'illustr'): 0.0009893261744086308,\n",
              " (2, 'import'): 0.001463364326047201,\n",
              " (2, 'improv'): 0.0005258548579101594,\n",
              " (2, 'inclu'): 0.0008393205850234422,\n",
              " (2, 'incr'): 0.0006503358925461981,\n",
              " (2, 'individu'): 0.0014657798511776422,\n",
              " (2, 'innov'): 0.0005258548579101594,\n",
              " (2, 'inspir'): 0.0006503358925461981,\n",
              " (2, 'intern'): 0.0007328899255888211,\n",
              " (2, 'interview'): 0.0042068388632812755,\n",
              " (2, 'issu'): 0.0006503358925461981,\n",
              " (2, 'job'): 0.0009529073535380231,\n",
              " (2, 'keep'): 0.0012986362404553324,\n",
              " (2, 'know'): 0.000549853579626316,\n",
              " (2, 'knowledg'): 0.0009529073535380231,\n",
              " (2, 'land'): 0.0007328899255888211,\n",
              " (2, 'larger'): 0.0009893261744086308,\n",
              " (2, 'lastli'): 0.0008393205850234422,\n",
              " (2, 'lead'): 0.0016786411700468844,\n",
              " (2, 'leader'): 0.005202687140369585,\n",
              " (2, 'leadership'): 0.004397339553532926,\n",
              " (2, 'learn'): 0.0002694186090903498,\n",
              " (2, 'left'): 0.0008393205850234422,\n",
              " (2, 'level'): 0.002198669776766463,\n",
              " (2, 'like'): 0.00020440501415328017,\n",
              " (2, 'look'): 0.0006600522838476057,\n",
              " (2, 'maintain'): 0.0009893261744086308,\n",
              " (2, 'make'): 0.000687316974532895,\n",
              " (2, 'manag'): 0.0011816989311791656,\n",
              " (2, 'mani'): 0.0008082558272710494,\n",
              " (2, 'matter'): 0.0019510076776385946,\n",
              " (2, 'may'): 0.0007877992874527771,\n",
              " (2, 'measur'): 0.0008393205850234422,\n",
              " (2, 'member'): 0.0005828843362036326,\n",
              " (2, 'mind'): 0.0019510076776385946,\n",
              " (2, 'mission'): 0.0006503358925461981,\n",
              " ...}"
            ]
          },
          "metadata": {
            "tags": []
          },
          "execution_count": 69
        }
      ]
    },
    {
      "cell_type": "markdown",
      "metadata": {
        "id": "YRvtYSOfg6lW",
        "colab_type": "text"
      },
      "source": [
        "### Calculating TF-IDF for Title"
      ]
    },
    {
      "cell_type": "code",
      "metadata": {
        "id": "L3mxCmb-g6lW",
        "colab_type": "code",
        "colab": {}
      },
      "source": [
        "# doc = 0\n",
        "\n",
        "# tf_idf_title = {}\n",
        "\n",
        "# for i in range(N):\n",
        "    \n",
        "#     tokens = processed_title[i]\n",
        "#     counter = Counter(tokens + processed_text[i])\n",
        "#     words_count = len(tokens + processed_text[i])\n",
        "\n",
        "#     for token in np.unique(tokens):\n",
        "        \n",
        "#         tf = counter[token]/words_count\n",
        "#         df = doc_freq(token)\n",
        "#         idf = np.log((N+1)/(df+1)) #numerator is added 1 to avoid negative values\n",
        "        \n",
        "#         tf_idf_title[doc, token] = tf*idf\n",
        "\n",
        "#     doc += 1"
      ],
      "execution_count": 0,
      "outputs": []
    },
    {
      "cell_type": "code",
      "metadata": {
        "scrolled": true,
        "id": "o7zdDbzLg6lY",
        "colab_type": "code",
        "colab": {}
      },
      "source": [
        "# tf_idf_title"
      ],
      "execution_count": 0,
      "outputs": []
    },
    {
      "cell_type": "code",
      "metadata": {
        "id": "valJIKJHg6lb",
        "colab_type": "code",
        "colab": {}
      },
      "source": [
        ""
      ],
      "execution_count": 0,
      "outputs": []
    },
    {
      "cell_type": "code",
      "metadata": {
        "id": "f2u1S3e5g6ld",
        "colab_type": "code",
        "colab": {
          "base_uri": "https://localhost:8080/",
          "height": 34
        },
        "outputId": "a9d50ff5-d2ef-421e-d17b-dd7bf778ea22"
      },
      "source": [
        "tf_idf[(0,\"us\")]"
      ],
      "execution_count": 71,
      "outputs": [
        {
          "output_type": "execute_result",
          "data": {
            "text/plain": [
              "0.0006585870418424215"
            ]
          },
          "metadata": {
            "tags": []
          },
          "execution_count": 71
        }
      ]
    },
    {
      "cell_type": "code",
      "metadata": {
        "id": "_L8AXOGEg6lg",
        "colab_type": "code",
        "colab": {},
        "outputId": "d2a8247a-bb8a-4324-f7b5-752b32c7f068"
      },
      "source": [
        "# tf_idf_title[(0,\"go\")]"
      ],
      "execution_count": 0,
      "outputs": [
        {
          "output_type": "execute_result",
          "data": {
            "text/plain": [
              "0.0002906893990853149"
            ]
          },
          "metadata": {
            "tags": []
          },
          "execution_count": 30
        }
      ]
    },
    {
      "cell_type": "code",
      "metadata": {
        "id": "zkXTzXiQg6li",
        "colab_type": "code",
        "colab": {}
      },
      "source": [
        ""
      ],
      "execution_count": 0,
      "outputs": []
    },
    {
      "cell_type": "markdown",
      "metadata": {
        "id": "Nd3JQu1dg6lm",
        "colab_type": "text"
      },
      "source": [
        "## Merging the TF-IDF according to weights"
      ]
    },
    {
      "cell_type": "code",
      "metadata": {
        "id": "QdRcj4njg6ln",
        "colab_type": "code",
        "colab": {}
      },
      "source": [
        "for i in tf_idf:\n",
        "    tf_idf[i] *= alpha"
      ],
      "execution_count": 0,
      "outputs": []
    },
    {
      "cell_type": "code",
      "metadata": {
        "id": "zavp6cG8g6lr",
        "colab_type": "code",
        "colab": {}
      },
      "source": [
        "# for i in tf_idf_title:\n",
        "#     tf_idf[i] = tf_idf_title[i]"
      ],
      "execution_count": 0,
      "outputs": []
    },
    {
      "cell_type": "code",
      "metadata": {
        "id": "QH3uWk6cg6lv",
        "colab_type": "code",
        "colab": {
          "base_uri": "https://localhost:8080/",
          "height": 34
        },
        "outputId": "c6272e9b-1f5f-4ef9-c7e4-719419cc3b1e"
      },
      "source": [
        "len(tf_idf)"
      ],
      "execution_count": 73,
      "outputs": [
        {
          "output_type": "execute_result",
          "data": {
            "text/plain": [
              "6344"
            ]
          },
          "metadata": {
            "tags": []
          },
          "execution_count": 73
        }
      ]
    },
    {
      "cell_type": "code",
      "metadata": {
        "id": "d_WgXCH-g6lz",
        "colab_type": "code",
        "colab": {}
      },
      "source": [
        ""
      ],
      "execution_count": 0,
      "outputs": []
    },
    {
      "cell_type": "markdown",
      "metadata": {
        "id": "eQz0DZoSg6l3",
        "colab_type": "text"
      },
      "source": [
        "# TF-IDF Matching Score Ranking"
      ]
    },
    {
      "cell_type": "code",
      "metadata": {
        "id": "KavtW0jPg6l4",
        "colab_type": "code",
        "colab": {
          "base_uri": "https://localhost:8080/",
          "height": 136
        },
        "outputId": "653c9f32-c2f0-47e6-bbbc-cad08e52a562"
      },
      "source": [
        "def matching_score(k, query):\n",
        "    preprocessed_query = preprocess(query)\n",
        "    tokens = word_tokenize(str(preprocessed_query))\n",
        "\n",
        "    print(\"Matching Score\")\n",
        "    print(\"\\nQuery:\", query)\n",
        "    print(\"\")\n",
        "    print(tokens)\n",
        "    \n",
        "    query_weights = {}\n",
        "\n",
        "    for key in tf_idf:\n",
        "        \n",
        "        if key[1] in tokens:\n",
        "            try:\n",
        "                query_weights[key[0]] += tf_idf[key]\n",
        "            except:\n",
        "                query_weights[key[0]] = tf_idf[key]\n",
        "    \n",
        "    query_weights = sorted(query_weights.items(), key=lambda x: x[1], reverse=True)\n",
        "\n",
        "    print(\"\")\n",
        "    \n",
        "    l = []\n",
        "    \n",
        "    for i in query_weights[:10]:\n",
        "        l.append(i[0])\n",
        "    \n",
        "    print(l)\n",
        "    \n",
        "\n",
        "matching_score(5, \"millions of Americans with hearing\")"
      ],
      "execution_count": 78,
      "outputs": [
        {
          "output_type": "stream",
          "text": [
            "Matching Score\n",
            "\n",
            "Query: millions of Americans with hearing\n",
            "\n",
            "['million', 'american', 'hear']\n",
            "\n",
            "[6, 21, 26, 3, 1, 23, 2, 20, 0, 24]\n"
          ],
          "name": "stdout"
        }
      ]
    },
    {
      "cell_type": "code",
      "metadata": {
        "id": "ebev1BOeg6l6",
        "colab_type": "code",
        "colab": {}
      },
      "source": [
        "print_doc(21)"
      ],
      "execution_count": 0,
      "outputs": []
    },
    {
      "cell_type": "code",
      "metadata": {
        "id": "K69unL6dg6l8",
        "colab_type": "code",
        "colab": {}
      },
      "source": [
        ""
      ],
      "execution_count": 0,
      "outputs": []
    },
    {
      "cell_type": "markdown",
      "metadata": {
        "id": "1W6ZVSCxg6l9",
        "colab_type": "text"
      },
      "source": [
        "# TF-IDF Cosine Similarity Ranking"
      ]
    },
    {
      "cell_type": "code",
      "metadata": {
        "id": "xwogv_9dg6l-",
        "colab_type": "code",
        "colab": {}
      },
      "source": [
        "def cosine_sim(a, b):\n",
        "    cos_sim = np.dot(a, b)/(np.linalg.norm(a)*np.linalg.norm(b))\n",
        "    return cos_sim"
      ],
      "execution_count": 0,
      "outputs": []
    },
    {
      "cell_type": "markdown",
      "metadata": {
        "id": "J_GZKVErg6mA",
        "colab_type": "text"
      },
      "source": [
        "### Vectorising tf-idf"
      ]
    },
    {
      "cell_type": "code",
      "metadata": {
        "id": "jpbcUgZRg6mB",
        "colab_type": "code",
        "colab": {}
      },
      "source": [
        "D = np.zeros((N, total_vocab_size))\n",
        "for i in tf_idf:\n",
        "    try:\n",
        "        ind = total_vocab.index(i[1])\n",
        "        D[i[0]][ind] = tf_idf[i]\n",
        "    except:\n",
        "        pass"
      ],
      "execution_count": 0,
      "outputs": []
    },
    {
      "cell_type": "code",
      "metadata": {
        "id": "IqwB4rKlg6mD",
        "colab_type": "code",
        "colab": {}
      },
      "source": [
        "def gen_vector(tokens):\n",
        "\n",
        "    Q = np.zeros((len(total_vocab)))\n",
        "    \n",
        "    counter = Counter(tokens)\n",
        "    words_count = len(tokens)\n",
        "\n",
        "    query_weights = {}\n",
        "    \n",
        "    for token in np.unique(tokens):\n",
        "        \n",
        "        tf = counter[token]/words_count\n",
        "        df = doc_freq(token)\n",
        "        idf = math.log((N+1)/(df+1))\n",
        "\n",
        "        try:\n",
        "            ind = total_vocab.index(token)\n",
        "            Q[ind] = tf*idf\n",
        "        except:\n",
        "            pass\n",
        "    return Q"
      ],
      "execution_count": 0,
      "outputs": []
    },
    {
      "cell_type": "code",
      "metadata": {
        "id": "MpsakWkug6mG",
        "colab_type": "code",
        "colab": {
          "base_uri": "https://localhost:8080/",
          "height": 136
        },
        "outputId": "8cc4087c-f900-4dfa-88d3-1c28d23942fa"
      },
      "source": [
        "def cosine_similarity(k, query):\n",
        "    print(\"Cosine Similarity\")\n",
        "    preprocessed_query = preprocess(query)\n",
        "    tokens = word_tokenize(str(preprocessed_query))\n",
        "    \n",
        "    print(\"\\nQuery:\", query)\n",
        "    print(\"\")\n",
        "    print(tokens)\n",
        "    \n",
        "    d_cosines = []\n",
        "    \n",
        "    query_vector = gen_vector(tokens)\n",
        "    \n",
        "    for d in D:\n",
        "        d_cosines.append(cosine_sim(query_vector, d))\n",
        "        \n",
        "    out = np.array(d_cosines).argsort()[-k:][::-1]\n",
        "    \n",
        "    print(\"\")\n",
        "    \n",
        "    print(out)\n",
        "\n",
        "#     for i in out:\n",
        "#         print(i, dataset[i][0])\n",
        "\n",
        "Q = cosine_similarity(5, \"inventors of UNIX\")"
      ],
      "execution_count": 85,
      "outputs": [
        {
          "output_type": "stream",
          "text": [
            "Cosine Similarity\n",
            "\n",
            "Query: inventors of UNIX\n",
            "\n",
            "['inventor', 'unix']\n",
            "\n",
            "[20 27 12  1  2]\n"
          ],
          "name": "stdout"
        }
      ]
    },
    {
      "cell_type": "code",
      "metadata": {
        "id": "HAI1s8Jlg6mJ",
        "colab_type": "code",
        "colab": {
          "base_uri": "https://localhost:8080/",
          "height": 1000
        },
        "outputId": "45585163-3bfa-4b8d-c513-f059ab0cc4b9"
      },
      "source": [
        "print_doc(20)"
      ],
      "execution_count": 86,
      "outputs": [
        {
          "output_type": "stream",
          "text": [
            "data/Working at Google London.txt\n",
            "1\n",
            "00:00:01,940 --> 00:00:08,589\n",
            "[Music]\n",
            "\n",
            "2\n",
            "00:00:09,240 --> 00:00:13,720\n",
            "so London is one of our core development\n",
            "\n",
            "3\n",
            "00:00:11,920 --> 00:00:16,240\n",
            "centers for mobile technologies the\n",
            "\n",
            "4\n",
            "00:00:13,720 --> 00:00:18,400\n",
            "London office is a fairly young Google\n",
            "\n",
            "5\n",
            "00:00:16,240 --> 00:00:20,890\n",
            "office it's a full fully fledged Google\n",
            "\n",
            "6\n",
            "00:00:18,400 --> 00:00:22,720\n",
            "office so it has engineering and sales\n",
            "\n",
            "7\n",
            "00:00:20,890 --> 00:00:24,910\n",
            "stuff so what we try to do is we try to\n",
            "\n",
            "8\n",
            "00:00:22,720 --> 00:00:26,770\n",
            "build a really strong mobile engineering\n",
            "\n",
            "9\n",
            "00:00:24,910 --> 00:00:28,390\n",
            "effort based in London that can really\n",
            "\n",
            "10\n",
            "00:00:26,770 --> 00:00:34,059\n",
            "drive on mobile initiatives around the\n",
            "\n",
            "11\n",
            "00:00:28,390 --> 00:00:35,769\n",
            "world working at Google is unique in a\n",
            "\n",
            "12\n",
            "00:00:34,059 --> 00:00:37,329\n",
            "lot of ways the first day I was there\n",
            "\n",
            "13\n",
            "00:00:35,769 --> 00:00:39,489\n",
            "had an email asking if I wanted to break\n",
            "\n",
            "14\n",
            "00:00:37,329 --> 00:00:41,319\n",
            "in for a free message so on Thursday of\n",
            "\n",
            "15\n",
            "00:00:39,489 --> 00:00:42,819\n",
            "my first week I had a free message other\n",
            "\n",
            "16\n",
            "00:00:41,319 --> 00:00:45,159\n",
            "things that you don't find anywhere else\n",
            "\n",
            "17\n",
            "00:00:42,819 --> 00:00:45,729\n",
            "what they give you breakfast lunch\n",
            "\n",
            "18\n",
            "00:00:45,159 --> 00:00:48,339\n",
            "dinner\n",
            "\n",
            "19\n",
            "00:00:45,729 --> 00:00:50,260\n",
            "that's quite fantastic we constantly\n",
            "\n",
            "20\n",
            "00:00:48,339 --> 00:00:52,510\n",
            "have speakers coming in we have some of\n",
            "\n",
            "21\n",
            "00:00:50,260 --> 00:00:54,280\n",
            "the people who wrote the C++ standard we\n",
            "\n",
            "22\n",
            "00:00:52,510 --> 00:00:56,469\n",
            "have the inventors of UNIX all these\n",
            "\n",
            "23\n",
            "00:00:54,280 --> 00:00:58,510\n",
            "people speak to us on a daily basis to a\n",
            "\n",
            "24\n",
            "00:00:56,469 --> 00:01:00,670\n",
            "series of Tech Talks so I'm able to hear\n",
            "\n",
            "25\n",
            "00:00:58,510 --> 00:01:02,829\n",
            "first hand about everything new that's\n",
            "\n",
            "26\n",
            "00:01:00,670 --> 00:01:08,380\n",
            "coming out and everything exciting that\n",
            "\n",
            "27\n",
            "00:01:02,829 --> 00:01:09,939\n",
            "we're doing I came to Google because it\n",
            "\n",
            "28\n",
            "00:01:08,380 --> 00:01:11,710\n",
            "is a very different structure than the\n",
            "\n",
            "29\n",
            "00:01:09,939 --> 00:01:14,409\n",
            "rest of the engineering community at\n",
            "\n",
            "30\n",
            "00:01:11,710 --> 00:01:17,259\n",
            "Google you have the opportunity to\n",
            "\n",
            "31\n",
            "00:01:14,409 --> 00:01:19,329\n",
            "direct your future and to determine\n",
            "\n",
            "32\n",
            "00:01:17,259 --> 00:01:21,850\n",
            "where it is you want to go rather than\n",
            "\n",
            "33\n",
            "00:01:19,329 --> 00:01:24,460\n",
            "to take a path but somebody's already\n",
            "\n",
            "34\n",
            "00:01:21,850 --> 00:01:25,960\n",
            "laid out for you what Google does is it\n",
            "\n",
            "35\n",
            "00:01:24,460 --> 00:01:27,520\n",
            "allows you a fantastic environment to be\n",
            "\n",
            "36\n",
            "00:01:25,960 --> 00:01:29,200\n",
            "innovative and to get your product\n",
            "\n",
            "37\n",
            "00:01:27,520 --> 00:01:30,759\n",
            "developed really quickly we're\n",
            "\n",
            "38\n",
            "00:01:29,200 --> 00:01:32,649\n",
            "encouraged to work on whatever we think\n",
            "\n",
            "39\n",
            "00:01:30,759 --> 00:01:35,020\n",
            "is important often the best ideas come\n",
            "\n",
            "40\n",
            "00:01:32,649 --> 00:01:37,929\n",
            "from employees people come from a really\n",
            "\n",
            "41\n",
            "00:01:35,020 --> 00:01:39,759\n",
            "diverse sort of backgrounds so they\n",
            "\n",
            "42\n",
            "00:01:37,929 --> 00:01:41,920\n",
            "bring a lot of different viewpoints and\n",
            "\n",
            "43\n",
            "00:01:39,759 --> 00:01:43,960\n",
            "different experiences to the table we\n",
            "\n",
            "44\n",
            "00:01:41,920 --> 00:01:45,219\n",
            "have people who aren't the champions we\n",
            "\n",
            "45\n",
            "00:01:43,960 --> 00:01:46,659\n",
            "have people that have climbed the\n",
            "\n",
            "46\n",
            "00:01:45,219 --> 00:01:48,729\n",
            "highest mountains we have people that\n",
            "\n",
            "47\n",
            "00:01:46,659 --> 00:01:51,039\n",
            "have done some very interesting and\n",
            "\n",
            "48\n",
            "00:01:48,729 --> 00:01:53,590\n",
            "bizarre things you can sit down next to\n",
            "\n",
            "49\n",
            "00:01:51,039 --> 00:01:55,570\n",
            "pretty much anyone be that VP of Europe\n",
            "\n",
            "50\n",
            "00:01:53,590 --> 00:01:57,429\n",
            "or a brand new hire and really have a\n",
            "\n",
            "51\n",
            "00:01:55,570 --> 00:01:59,350\n",
            "meaningful conversation there's a lot of\n",
            "\n",
            "52\n",
            "00:01:57,429 --> 00:02:00,549\n",
            "collaboration and a lot of discussion\n",
            "\n",
            "53\n",
            "00:01:59,350 --> 00:02:02,409\n",
            "between different teams within Google\n",
            "\n",
            "54\n",
            "00:02:00,549 --> 00:02:03,909\n",
            "when you are exposed to these type of\n",
            "\n",
            "55\n",
            "00:02:02,409 --> 00:02:05,590\n",
            "people and you walk through them on a\n",
            "\n",
            "56\n",
            "00:02:03,909 --> 00:02:07,090\n",
            "daily basis your knowledge\n",
            "\n",
            "57\n",
            "00:02:05,590 --> 00:02:08,410\n",
            "is because you learn a lot from these\n",
            "\n",
            "58\n",
            "00:02:07,090 --> 00:02:13,030\n",
            "people and hopefully they learn a lot\n",
            "\n",
            "59\n",
            "00:02:08,410 --> 00:02:15,730\n",
            "for me to Google as a company has been\n",
            "\n",
            "60\n",
            "00:02:13,030 --> 00:02:17,260\n",
            "built to maximize innovation and we are\n",
            "\n",
            "61\n",
            "00:02:15,730 --> 00:02:20,410\n",
            "all about making all the world's\n",
            "\n",
            "62\n",
            "00:02:17,260 --> 00:02:22,269\n",
            "information accessible at all times to\n",
            "\n",
            "63\n",
            "00:02:20,410 --> 00:02:24,040\n",
            "all people you're you're in a position\n",
            "\n",
            "64\n",
            "00:02:22,269 --> 00:02:25,450\n",
            "to make a difference to people that\n",
            "\n",
            "65\n",
            "00:02:24,040 --> 00:02:27,099\n",
            "you've never met and I think that's\n",
            "\n",
            "66\n",
            "00:02:25,450 --> 00:02:28,500\n",
            "that's a really cool thing about working\n",
            "\n",
            "67\n",
            "00:02:27,099 --> 00:02:30,430\n",
            "at Google it gives a great sense of\n",
            "\n",
            "68\n",
            "00:02:28,500 --> 00:02:31,989\n",
            "reward because you'll know you're part\n",
            "\n",
            "69\n",
            "00:02:30,430 --> 00:02:33,849\n",
            "of something that's affecting thousands\n",
            "\n",
            "70\n",
            "00:02:31,989 --> 00:02:36,220\n",
            "of thousands of people in the UK and and\n",
            "\n",
            "71\n",
            "00:02:33,849 --> 00:02:37,480\n",
            "across the globe and I think to know\n",
            "\n",
            "72\n",
            "00:02:36,220 --> 00:02:40,630\n",
            "that you're part of something that's\n",
            "\n",
            "73\n",
            "00:02:37,480 --> 00:02:43,420\n",
            "maybe having an impact however great or\n",
            "\n",
            "74\n",
            "00:02:40,630 --> 00:02:46,570\n",
            "small and on the world at large is I\n",
            "\n",
            "75\n",
            "00:02:43,420 --> 00:02:51,410\n",
            "think it's something quite special\n",
            "\n",
            "76\n",
            "00:02:46,570 --> 00:02:51,410\n",
            "[Music]\n"
          ],
          "name": "stdout"
        }
      ]
    },
    {
      "cell_type": "code",
      "metadata": {
        "id": "Xxu5-2MFg6mK",
        "colab_type": "code",
        "colab": {}
      },
      "source": [
        ""
      ],
      "execution_count": 0,
      "outputs": []
    },
    {
      "cell_type": "code",
      "metadata": {
        "id": "r9LKoa9og6mM",
        "colab_type": "code",
        "colab": {}
      },
      "source": [
        ""
      ],
      "execution_count": 0,
      "outputs": []
    },
    {
      "cell_type": "code",
      "metadata": {
        "scrolled": false,
        "id": "w6UF1Mdqg6mQ",
        "colab_type": "code",
        "colab": {},
        "outputId": "65d165fe-9f5b-46dc-a245-e583780f2943"
      },
      "source": [
        ""
      ],
      "execution_count": 0,
      "outputs": [
        {
          "output_type": "stream",
          "text": [
            "('/Users/williamscott/Desktop/IR/Assignments/Assignment 2/stories/ghost', 'Time for Flowers, by Gay Bost')\n",
            "TIME FOR FLOWERS\n",
            "  by Gay Bost\n",
            "\n",
            "They'd put flowers up. She hadn't noticed. Time wouldn't hold still.\n",
            "She remembered, quite clearly, that time had been a simple thing; one\n",
            "moment following the previous one, seconds strung out neatly like her\n",
            "mother's pearls laid out on the dark mahogany vanity each Sunday\n",
            "morning. But there had been a catch . . . \n",
            "\n",
            "Hung around Mother's neck the catch clicked and the tidy little line \n",
            "of seconds became a never ending circle with only the catch in the \n",
            "middle. For some reason the thought of pearls gathered from the sea, \n",
            "naturally nested within the confines of oyster shells, scattered \n",
            "haphazardly about the ocean floor disturbed her.\n",
            "\n",
            "Now they'd put up the flowers in the same careless groupings. This,\n",
            "too, disturbed her. Bright yellow trumpets, their collars spread to\n",
            "catch the sun, dotted the front yard in clusters of two or three, five\n",
            "or six. Bunches laid carelessly and forgotten. In a moment she'd\n",
            "come away from the window and have a word with the gardener. He\n",
            "listened so well and explained to others so reasonably why this should\n",
            "be so instead of the way they wanted it done, how that would look\n",
            "better or cut the wind more effectively.\n",
            "\n",
            "And then she recalled his stiff body stretched out in the little bed\n",
            "over the garages. Another pearl had come loose from the strand,\n",
            "seeming to want to search out its old home in a far away oyster bed.\n",
            "She would have those pearls laid out neatly, one following the one\n",
            "before and so on and so on. She would have those damned yellow\n",
            "flowers marching smartly along the walk. She'd have it if she\n",
            "had to go out there and replant each and every one of them.\n",
            "\n",
            "She flew down the hallway and sailed over the steps leading the\n",
            "back way to the kitchen, much as she had done as a child. Where then\n",
            "she had skipped in joy she now catapulted her form in anger.\n",
            "\n",
            "\"And there you are!\" she said, as she encountered the woman she had \n",
            "come to know as Kate. All of five foot tall in her stocking feet and \n",
            "surely every bit of two hundred pounds, her pudgy fists more often \n",
            "than not braced on the sudden outburst of her hips. So she stood, \n",
            "having turned from the sink. Suds and water darkened the fabric of her \n",
            "dress. Her face was pleasant; round, rosy cheeked, with eyes the color \n",
            "of mint in the summer sunset. \"And *where have you been these three days*?\"\n",
            "\n",
            "\"I want the flowers straightened out,\" Rebeccah said. \"I want the\n",
            "flowers placed in the proper alignments.\"\n",
            "\n",
            "Kate tilted her head, narrowed her eyes and frowned. \"Ah, you're in a\n",
            "huff again. What can it be this time?\"\n",
            "\n",
            "\"I want the flours straightened out,\" Rebeccah yelled, coming up to\n",
            "the woman's face.\n",
            "\n",
            "Kate went directly to the cupboard, strained upon her tiny toes to\n",
            "reach the second shelf, and pulled the flour canister out. She set it\n",
            "on the counter. She repeated the process, bringing out a smaller\n",
            "canister. Rebecca knew this one to be the unbleached flour Kate used\n",
            "for one particular recipe.\n",
            "\n",
            "\"No,no, no!\"  Rebeccah hissed. \"Flowers!  Not flours!\"  She propped\n",
            "herself against the edge of the kitchen table and crossed her arms\n",
            "over her chest, waiting for the woman to get it right.\n",
            "\n",
            "Kate stood looking dumbly at the canisters. \"Now, what was I going to\n",
            "do with these?\"  she asked herself. She drummed her fingers on the\n",
            "counter top before bringing one hand to her lips, where the pointer\n",
            "finger tapped on her upper lip.\n",
            "\n",
            "\"The Flowers!  Outside!\"  Rebecca screamed, highly agitated.\n",
            "\n",
            "Kate gathered the two canisters and moved toward the back door, one\n",
            "held against her ample form by each arm.\n",
            "\n",
            "Exasperated, Rebeccah followed her out, watching to see what she would do.\n",
            "\n",
            "Without the drive of Rebeccah's insistence, Kate lost her momentum.\n",
            "She stood next a slatted oak bench, canisters still clutched, surveying \n",
            "the sunlit yard and gardens beyond. Harold had done a passable job \n",
            "trimming the hedges, but Kate missed the gardener's touch. She resolved \n",
            "to contact the nursery and find another. Flaux, bright purples, pinks \n",
            "and radiant white encircled the herb garden, a brilliant contrast to \n",
            "the varied greens within. She set the canisters down on the bench and \n",
            "moved toward the cheerful scene.\n",
            "\n",
            "Rebeccah, discouraged, sat primly on the edge of the bench, dusting a\n",
            "wisp of hair away from her temple. New mint, dew draped, veiled a\n",
            "border of stocky wooden poles to trail onto the walk, had been crushed, \n",
            "probably by the man of the house on his way off to work. The scent \n",
            "filled her nostrils. She found herself a child, again, tasting her \n",
            "first tea with mint -- fresh cut from the gardens. _\"How long has it\n",
            "been?\"_  she wondered. Kate had gone down on her knees over the flaux,\n",
            "bending to weed through the thyme.\n",
            "\n",
            "\"I don't know why I have to put up with idiots,\" Rebeccah complained.\n",
            "\"It all so worthless, so futile.\"  With a great sigh she rose from the\n",
            "bench and made her way back into the house. The bright kitchen seemed\n",
            "a waste of life, all a travesty to cover the desolation of her\n",
            "unnaturally extended existence. \n",
            "\n",
            "She faced the stairs with exhaustion, deciding, instead, to forego the \n",
            "trip up. She sat on the bottom step, delicate chin propped on tightly \n",
            "curled fists, gazing dully at the open pantry door, seeing into the past \n",
            "-- again. Where, in this world the shelves were haphazardly stacked with \n",
            "cans of peaches and corn, she saw row after row of glass jars. Beets!  \n",
            "Ugh!  Her grandmother's pickled beets, always pretty to view, left a \n",
            "phantom bitterness within her mouth.\n",
            "\n",
            "On the lawn Kate sat back on her heels, suddenly lost in sorrow and\n",
            "self-pity. Tears streamed down her cheeks to drop onto the fabric of\n",
            "her dress. She thought of Harold, busily showing homes as lovely as\n",
            "their own to strangers while she ruined her nails weeding this pitiful\n",
            "excuse for a garden. She shoved her pudgy fists into her burning eyes\n",
            "and wept aloud for the waste of her life. She sniffed back her running \n",
            "nose . . . sniffed again. She snuffled like a dog scenting something \n",
            "unusual, nose in the air. \"Beets?\"  she asked aloud. \"Beets?\"  Her \n",
            "hands dropped to her thighs, pushing to rise. _\"Of course,\"_ she thought \n",
            "to herself, _\"this *lovely* house is haunted by a very emotional woman.\"_  \n",
            "Her knees ached. She turned toward the house and noticed the flour \n",
            "canisters on the bench. \"And whatever she wants *this* time is not \n",
            "getting through this thick skull of mine!\"\n",
            "\n",
            "Kate knuckle-rapped herself above her right temple. \"Rebeccah!\"  she\n",
            "called. \"Quit moping!  You'll ruin another day for me and I still\n",
            "have to deal with that horrible Avon woman this morning.\"\n",
            "\n",
            "\"I want my flowers properly aligned!\" Rebeccah screamed from the stairs.\n",
            "\n",
            "As Kate passed the bench she paused to move the flour canisters so\n",
            "that the labels faced in the same direction, each perfectly centered\n",
            "over three of the wood slats. With a self-satisfied air she re-entered \n",
            "her own kitchen. \"Now,\" she began, addressing the refrigerator, \"what \n",
            "we need is improved communication.\"\n",
            "\n",
            "\"Fool,\" hissed Rebeccah, \"you're talking to the refrigerator again.\"\n",
            "\n",
            "\"You don't want an empath. You want a telepath,\" Kate said, turning\n",
            "to stare at Rebeccah with surprising accuracy.\n",
            "\n",
            "The two women blinked at each other and broke into laughter.\n",
            "\n",
            "\"I want my flowers straightened out!\"  Rebeccah commented softly when\n",
            "the mirth had passed.\n",
            "\n",
            "                              * * *\n",
            "\n",
            "\"There!\"  Kate replaced the telephone hand piece and pocketed the\n",
            "scrap of paper she'd written the new gardener's name upon. \"Mr.\n",
            "Hi-a-cow-wah,\" she practiced aloud. \"Very good.\"  The door chime rang\n",
            "throughout the house, echoing off the tiled kitchen walls.\n",
            "\n",
            "\"Oh, no!\"  wailed Rebeccah. \"Not Japanese!  They have such spiritual\n",
            "ideas on gardening -- I'll never get through to him!\"\n",
            "\n",
            "\"Oh, dear!\"  Kate bemoaned, certain the Avon woman had come to call.\n",
            "She brushed her hands over her skirt, straightened her broad shoulders\n",
            "and pushed through to the dining room, determined not to buy a single\n",
            "thing today.\n",
            "\n",
            "\"Good morning, Mrs. Blanchard!\"  beamed the woman in the pale rose\n",
            "colored ensemble. Purse clutched in one hand, sample case in the other, \n",
            "she reminded Kate of the Lady Justice, scales perfectly balanced. But \n",
            "this lady had no blindfold. (All the better to see you with, my dear. \n",
            "And Oh, wouldn't this color just bring on the blush in your cheeks for \n",
            "$11.00 a tube?)  \"Isn't it just a glorious day?\" the woman pronouned, \n",
            "boldly stepping over the threshold on past assumptions.\n",
            "\n",
            "_\"That's it!\"_ Kate thought to herself. She'd let the woman in once,\n",
            "bought gifts soaps and lipstick in the spirit of cooperation, and\n",
            "never been free of past assumptions since. \"Glorious!\" Kate echoed,\n",
            "moving aside before she was trod upon. Rebeccah hovered at the dining\n",
            "room doors. Kate felt her there.\n",
            "\n",
            "\"Oh, and you've brought the day in with you!\" exclaimed the woman,\n",
            "noting cut flowers on mantel and coffee table. \"How healthful!\"\n",
            "\n",
            "\"Healthful?\" Kate inquired.\n",
            "\n",
            "\"Oh, yes. Studies have shown that people who surround themselves with\n",
            "live plants and fresh flowers indoors live longer, feel better, and\n",
            "enjoy life more fully.\"\n",
            "\n",
            "\"Coffee?\"  Kate offered as the woman sat on the edge of the sofa. It\n",
            "was the one torment she allowed herself to use on the woman, knowing\n",
            "full well this door to door saleswoman would shun other people's\n",
            "bathrooms.\n",
            "\n",
            "\"No thank you,\" she answered, a slight grimace flashing across her\n",
            "face as she scooted forward and opened her case.\n",
            "\n",
            "\"You're so rude!\" Rebeccah crowed, having come closer. \"She's got a\n",
            "bladder full now.\"\n",
            "\n",
            "Kate smiled, holding back a giggle. She was certain she'd scored\n",
            "without knowing why. The woman drew forth brightly colored sheets of\n",
            "paper and placed them neatly before Kate on the glass topped table.\n",
            "_\"A promotional,\"_ Kate moaned within her mind. At the bottom of each\n",
            "was stamped, in flowing script, \"Eleanor Thomsason.\"  Address and two\n",
            "phone numbers followed in block lettering.\n",
            "\n",
            "\"I don't really need anything today, Eleanor,\" Kate began.\n",
            "\n",
            "\"Of course you don't, dear. You're more than lovely in your house\n",
            "frock and clean scrubbed face. But you must see the new complexion\n",
            "care line we're offering. Designed especially for the woman over 30\n",
            "and her special needs,\" Eleanor pulled full sized display item from\n",
            "the depths of her bottomless case and set them neatly in a row,\n",
            "labels facing the prospective buyer. \"As you can see here,\" she said\n",
            "crisply, long manicured finger nail tapping each item gently as she\n",
            "spoke, \"We have a scrub, toner, tightener, moisturizer and light\n",
            "foundation. The foundation comes in 6 basic colors. Just to smooth\n",
            "over those tiny blotches we all seem to have after 30.\"\n",
            "\n",
            "Kate sat forward in her occasional chair, considering the possibility\n",
            "that she might, indeed, need a little more complexion care. She\n",
            "touched the toner, tilting it slightly to the light. While she was\n",
            "otherwise engaged Eleanor brought forth tubes, bottles and jars of the\n",
            "same line. She busied herself arranging them in a straight line to\n",
            "the left and just behind the first row.\n",
            "\n",
            "\"And here we have the corresponding blush, highlighters, lipsticks \n",
            "and shadows. Now this line is made with completely natural base\n",
            "substances,\" Eleanor pointed out.\n",
            "\n",
            "\"Chemicals,\" Rebeccah commented, coming closer still, intently\n",
            "interested in the ordered presentation.\n",
            "\n",
            "Kate let go the toner and reached for the blush. Eleanor straightened\n",
            "the toner, turning the label toward the prospective buyer. Rebeccah\n",
            "came around the coffee table and sat on the sofa with Eleanor, her\n",
            "arms primly at her sides, hands clasped in her lap. Rebeccah leaned\n",
            "forward in the same manner as did Eleanor.\n",
            "\n",
            "The genial rise and fall of the woman's voice slipped into the background \n",
            "of sounds passing by on the peaceful street outside. Kate blinked once, \n",
            "the blush still clasped within her fingers, watching Eleanor's lips move. \n",
            "She could almost hear Rebeccah.\n",
            "\n",
            "Rebeccah's attention was focused entirely on Eleanor the Avon lady.\n",
            "\"The flowers have been scattered willy-nilly along the walk,\"\n",
            "Rebeccah said conversationally, her lips mere inches from Eleanor's\n",
            "ear. \"They look so untidy.\"  Eleanor looked, suddenly, as if she'd\n",
            "forgotten something. Kate remembered the flour canisters on the\n",
            "bench. \"What we need is someone with some organizational ability,\"\n",
            "Rebeccah continued. \n",
            "\n",
            "Eleanor drew forth her order book. \"Flowers are like life's little \n",
            "markers,\" Rebeccah whispered. Eleanor reached into her case for a \n",
            "marker. \"Yellow markers, as it were, for the days of our lives.\"  \n",
            "Eleanor replaced the fine tipped black marker and retrieved a broad \n",
            "stroke yellow highlighter. Kate seemed to hear McDonald Carey speaking \n",
            "about sand. \"The flowers along the walk NEED straightening.\"\n",
            "\n",
            "\"Will you excuse me, just one moment?\" Kate asked. She knew exactly\n",
            "where to find that hourglass. She rose from her chair\n",
            "\n",
            "\"Certainly, dear,\" Eleanor answered, her mind seemingly elsewhere\n",
            "while her hands compulsively aligned the display items.\n",
            "\n",
            "\"*YOU* could be the only one for the job!\"  Rebeccah spoke\n",
            "authoritatively, her body turned toward Eleanor. \"The flowers need\n",
            "alignment!\"\n",
            "\n",
            "Kate felt an oppressive headache coming on. Two of them in one\n",
            "morning was more than anyone should be expected to bear. As she\n",
            "passed through the kitchen door her spirits seemed to rise suddenly.\n",
            "Sunshine slanted into the room to highlight every gleaming surface,\n",
            "glinting sweetly on glassware and chrome. She inhaled fully, filling\n",
            "her lungs with the aroma of fresh brewed coffee. The hourglass\n",
            "spilling out the days of her life seemed important only in the\n",
            "abstract. All was right today. She thought of the flowers by the\n",
            "walk, then. For some reason she  wanted to see them from the top\n",
            "floor.\n",
            "\n",
            "She poured herself a cup of coffee, carried it up the back stairs to\n",
            "the second floor landing and peered from the window into the side\n",
            "yard. She thought, idly, of the new gardener, and what creative\n",
            "expression he might come up with for that spot there, which had never\n",
            "been cultivated. Onward, to the front of the house, and into the\n",
            "quiet room beneath the pitch of the front eaves. \n",
            "\n",
            "She sat on the window ledge and balanced her cup on the sill, the \n",
            "threatened headache a memory, only, of Saturday afternoons with her \n",
            "mother. Somewhere behind her temples her mother's voice droned on and \n",
            "on; something about book spines and the edge of the shelf. Sometimes \n",
            "one had to learn to ignore the librarian in order to read the books.\n",
            "\n",
            "Her eyes drifted to the front walk. Far below, as if in another\n",
            "world, Eleanor the Avon lady knelt in the grass next to the walk.\n",
            "A tall shadow stood near, softly, insistently coaxing, as Eleanor\n",
            "carefully spaded deep into the earth and removed a daffodil. She\n",
            "placed it gently into a prepared hole, tamped the earth around it and\n",
            "proceeded to dig another hole, exactly six inches from the last, in a\n",
            "perfectly straight line parallel to the walk.\n",
            "\n",
            "\"Oh, for crying out loud!\"  Kate exclaimed, watching closely. \"Those\n",
            "flowers!\"  She'd have to remember to collect the flour canisters\n",
            "before Harold came home. \"Goodness, Rebeccah,\" she continued, with\n",
            "some exasperation, \"why on earth didn't you say `Daffodils'?\"\n",
            "\n",
            "                              # # #\n",
            "\n",
            "Copyright 1994 Gay Bost\n",
            "--------------------------------------------------------------------------\n",
            " Gay is a Clinical Lab Tech with experience in Veterinary medicine. \n",
            "Originally from NORTHERN California, she has resided in Southeast Missouri \n",
            "with her husband and an aggressive 6 year old boy, since 1974. She \n",
            "installed her first modem in the summer of 1992 and has been exploring new \n",
            "worlds since. Her first and only publication, a short horror story, came \n",
            "when she was 17 years old. The success was so overwhelming she called an \n",
            "end to her writing days and went in search of herself. She's still looking. \n",
            "You will find Gay's work in the best Electronic Magazines.\n",
            "===========================================================================\n"
          ],
          "name": "stdout"
        }
      ]
    },
    {
      "cell_type": "code",
      "metadata": {
        "id": "3iAmlblDg6mU",
        "colab_type": "code",
        "colab": {}
      },
      "source": [
        ""
      ],
      "execution_count": 0,
      "outputs": []
    },
    {
      "cell_type": "code",
      "metadata": {
        "id": "quL6LjoTg6mX",
        "colab_type": "code",
        "colab": {}
      },
      "source": [
        ""
      ],
      "execution_count": 0,
      "outputs": []
    }
  ]
}