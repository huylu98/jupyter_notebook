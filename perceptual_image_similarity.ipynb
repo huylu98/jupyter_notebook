{
  "nbformat": 4,
  "nbformat_minor": 0,
  "metadata": {
    "kernelspec": {
      "name": "python3",
      "display_name": "Python 3"
    },
    "language_info": {
      "codemirror_mode": {
        "name": "ipython",
        "version": 3
      },
      "file_extension": ".py",
      "mimetype": "text/x-python",
      "name": "python",
      "nbconvert_exporter": "python",
      "pygments_lexer": "ipython3",
      "version": "3.6.4"
    },
    "colab": {
      "name": "perceptual_image_similarity.ipynb",
      "provenance": [],
      "toc_visible": true,
      "include_colab_link": true
    },
    "accelerator": "GPU"
  },
  "cells": [
    {
      "cell_type": "markdown",
      "metadata": {
        "id": "view-in-github",
        "colab_type": "text"
      },
      "source": [
        "<a href=\"https://colab.research.google.com/github/pertvirt/hello_world/blob/master/perceptual_image_similarity.ipynb\" target=\"_parent\"><img src=\"https://colab.research.google.com/assets/colab-badge.svg\" alt=\"Open In Colab\"/></a>"
      ]
    },
    {
      "cell_type": "code",
      "metadata": {
        "id": "XNet3aPbvSYp",
        "colab_type": "code",
        "colab": {
          "base_uri": "https://localhost:8080/",
          "height": 34
        },
        "outputId": "e11a5bfd-7c57-4b91-ffe1-9ba3f25d6f97"
      },
      "source": [
        "import os\n",
        "import glob\n",
        "from pathlib import Path\n",
        "import pickle\n",
        "\n",
        "\n",
        "import keras\n",
        "from keras.preprocessing.image import ImageDataGenerator\n",
        "import numpy as np\n",
        "import matplotlib.pyplot as plt\n",
        "from tqdm import tqdm_notebook\n",
        "import lycon\n",
        "from lshash.lshash import LSHash\n",
        "from sklearn.preprocessing import normalize\n",
        "\n",
        "keras.__version__"
      ],
      "execution_count": 6,
      "outputs": [
        {
          "output_type": "execute_result",
          "data": {
            "text/plain": [
              "'2.2.5'"
            ]
          },
          "metadata": {
            "tags": []
          },
          "execution_count": 6
        }
      ]
    },
    {
      "cell_type": "code",
      "metadata": {
        "id": "3Ys4X7vyv5km",
        "colab_type": "code",
        "colab": {}
      },
      "source": [
        "!pip install lshash3"
      ],
      "execution_count": 0,
      "outputs": []
    },
    {
      "cell_type": "code",
      "metadata": {
        "id": "4RdCTLNYwdgx",
        "colab_type": "code",
        "colab": {}
      },
      "source": [
        "!unzip data"
      ],
      "execution_count": 0,
      "outputs": []
    },
    {
      "cell_type": "code",
      "metadata": {
        "id": "0dG25HYOvSYw",
        "colab_type": "code",
        "colab": {
          "base_uri": "https://localhost:8080/",
          "height": 102
        },
        "outputId": "ff8fc249-80ad-4fc0-de41-15a200877250"
      },
      "source": [
        "DATA_PATH = Path('/content/data/')\n",
        "\n",
        "glob.glob(str(DATA_PATH) + '/*')[:5]"
      ],
      "execution_count": 8,
      "outputs": [
        {
          "output_type": "execute_result",
          "data": {
            "text/plain": [
              "['/content/data/octopus',\n",
              " '/content/data/ant',\n",
              " '/content/data/lotus',\n",
              " '/content/data/crab',\n",
              " '/content/data/rhino']"
            ]
          },
          "metadata": {
            "tags": []
          },
          "execution_count": 8
        }
      ]
    },
    {
      "cell_type": "markdown",
      "metadata": {
        "id": "nBH7aQY8vSY0",
        "colab_type": "text"
      },
      "source": [
        "## Extracting the feature vectors from VGG16 (pretrained on ImageNet)"
      ]
    },
    {
      "cell_type": "code",
      "metadata": {
        "id": "V3vTxaZSvSY1",
        "colab_type": "code",
        "colab": {
          "base_uri": "https://localhost:8080/",
          "height": 292
        },
        "outputId": "fae7a971-2a3b-491c-96a7-6b2bb4b9f9bb"
      },
      "source": [
        "batch_size = 16\n",
        "\n",
        "data_generator = ImageDataGenerator(rescale=1./255,)\n",
        "net = keras.applications.VGG16(include_top=False, weights='imagenet')\n",
        "\n",
        "generator = data_generator.flow_from_directory(DATA_PATH,\n",
        "                                               target_size=(224, 224),\n",
        "                                               batch_size=batch_size,\n",
        "                                               class_mode=None,\n",
        "                                               shuffle=False)\n"
      ],
      "execution_count": 9,
      "outputs": [
        {
          "output_type": "stream",
          "text": [
            "WARNING:tensorflow:From /usr/local/lib/python3.6/dist-packages/keras/backend/tensorflow_backend.py:66: The name tf.get_default_graph is deprecated. Please use tf.compat.v1.get_default_graph instead.\n",
            "\n",
            "WARNING:tensorflow:From /usr/local/lib/python3.6/dist-packages/keras/backend/tensorflow_backend.py:541: The name tf.placeholder is deprecated. Please use tf.compat.v1.placeholder instead.\n",
            "\n",
            "WARNING:tensorflow:From /usr/local/lib/python3.6/dist-packages/keras/backend/tensorflow_backend.py:4432: The name tf.random_uniform is deprecated. Please use tf.random.uniform instead.\n",
            "\n",
            "WARNING:tensorflow:From /usr/local/lib/python3.6/dist-packages/keras/backend/tensorflow_backend.py:4267: The name tf.nn.max_pool is deprecated. Please use tf.nn.max_pool2d instead.\n",
            "\n",
            "Downloading data from https://github.com/fchollet/deep-learning-models/releases/download/v0.1/vgg16_weights_tf_dim_ordering_tf_kernels_notop.h5\n",
            "58892288/58889256 [==============================] - 1s 0us/step\n",
            "WARNING:tensorflow:From /usr/local/lib/python3.6/dist-packages/keras/backend/tensorflow_backend.py:190: The name tf.get_default_session is deprecated. Please use tf.compat.v1.get_default_session instead.\n",
            "\n",
            "WARNING:tensorflow:From /usr/local/lib/python3.6/dist-packages/keras/backend/tensorflow_backend.py:197: The name tf.ConfigProto is deprecated. Please use tf.compat.v1.ConfigProto instead.\n",
            "\n",
            "Found 605 images belonging to 11 classes.\n"
          ],
          "name": "stdout"
        }
      ]
    },
    {
      "cell_type": "code",
      "metadata": {
        "id": "bfcMN6LJvSZA",
        "colab_type": "code",
        "colab": {}
      },
      "source": [
        "#feature_vectors = net.predict_generator(generator, len(filenames) // batch_size, verbose=1) # use for inference (can take some time)\n",
        "#filenames = generator.filenames\n",
        "\n",
        "feature_vectors = np.load('./caltech_images/vgg16_features/features.vgg16.npy')\n",
        "with open(r\"./caltech_images/vgg16_features/filenames.pickle\", \"rb\") as input_file:\n",
        "    feature_filenames = pickle.load(input_file)"
      ],
      "execution_count": 0,
      "outputs": []
    },
    {
      "cell_type": "code",
      "metadata": {
        "id": "oq3t5H16vSZE",
        "colab_type": "code",
        "colab": {},
        "outputId": "c31130df-c005-4264-a10c-837f135c78b1"
      },
      "source": [
        "feature_vectors.shape\n",
        "feature_vectors = feature_vectors.reshape((feature_vectors.shape[0], -1))\n",
        "feature_vectors = normalize(feature_vectors, axis=1, norm='l2') # normalizing every feature vector\n",
        "feature_vectors.shape"
      ],
      "execution_count": 0,
      "outputs": [
        {
          "output_type": "execute_result",
          "data": {
            "text/plain": [
              "(9088, 25088)"
            ]
          },
          "metadata": {
            "tags": []
          },
          "execution_count": 101
        }
      ]
    },
    {
      "cell_type": "code",
      "metadata": {
        "id": "3T5SRcxvvSZI",
        "colab_type": "code",
        "colab": {}
      },
      "source": [
        "features_table = dict(zip(feature_filenames, feature_vectors))"
      ],
      "execution_count": 0,
      "outputs": []
    },
    {
      "cell_type": "markdown",
      "metadata": {
        "id": "F7aiUrsuvSZM",
        "colab_type": "text"
      },
      "source": [
        "## Generating the Hashtable (lshash)"
      ]
    },
    {
      "cell_type": "code",
      "metadata": {
        "id": "8A4f6lTGvSZN",
        "colab_type": "code",
        "colab": {}
      },
      "source": [
        "hash_index = LSHash(hash_size=16, input_dim=feature_vectors.shape[-1], num_hashtables=8)"
      ],
      "execution_count": 0,
      "outputs": []
    },
    {
      "cell_type": "code",
      "metadata": {
        "id": "1HjCGvuevSZQ",
        "colab_type": "code",
        "colab": {},
        "outputId": "edfedd08-7ab5-49dd-c58a-1e0d539c3ba3"
      },
      "source": [
        "for filename, feature_vec in tqdm_notebook(features_table.items()):\n",
        "    hash_index.index(feature_vec, extra_data=filename)"
      ],
      "execution_count": 0,
      "outputs": [
        {
          "output_type": "display_data",
          "data": {
            "application/vnd.jupyter.widget-view+json": {
              "model_id": "dca683daaeba459b8b1dda55561432e4",
              "version_major": 2,
              "version_minor": 0
            },
            "text/plain": [
              "HBox(children=(IntProgress(value=0, max=9088), HTML(value='')))"
            ]
          },
          "metadata": {
            "tags": []
          }
        },
        {
          "output_type": "stream",
          "text": [
            "\n"
          ],
          "name": "stdout"
        }
      ]
    },
    {
      "cell_type": "markdown",
      "metadata": {
        "id": "JFYknYS4vSZU",
        "colab_type": "text"
      },
      "source": [
        "## Running queries for similar images"
      ]
    },
    {
      "cell_type": "code",
      "metadata": {
        "id": "UKeQxgDhvSZV",
        "colab_type": "code",
        "colab": {}
      },
      "source": [
        "def similar_images(index, results=10):\n",
        "    if isinstance(index, int):\n",
        "        response = hash_index.query(features_table[list(features_table.keys())[index]], \n",
        "                         num_results=11, distance_func='cosine')\n",
        "    else:\n",
        "        response = hash_index.query(features_table[index], \n",
        "                         num_results=11, distance_func='cosine')\n",
        "    images = list()\n",
        "    for i in range(1, 12):\n",
        "        img = lycon.load(str(DATA_PATH / response[i-1][0][1]))\n",
        "        images.append(str(DATA_PATH / response[i-1][0][1]))\n",
        "    imagesList = ''.join( [f\"<img style='height: 120px; margin: 0px; float: left; border: 1px solid black;' src='{s}' />\"\n",
        "                     for s in images ])\n",
        "    display(HTML(imagesList))"
      ],
      "execution_count": 0,
      "outputs": []
    },
    {
      "cell_type": "code",
      "metadata": {
        "id": "RKjuvG-LvSZZ",
        "colab_type": "code",
        "colab": {},
        "outputId": "c0d677ec-1f80-4cd5-f8c4-624dbeab8121"
      },
      "source": [
        "similar_images('laptop/image_0027.jpg')"
      ],
      "execution_count": 0,
      "outputs": [
        {
          "output_type": "display_data",
          "data": {
            "text/html": [
              "<img style='height: 120px; margin: 0px; float: left; border: 1px solid black;' src='caltech_images/caltech101/laptop/image_0027.jpg' /><img style='height: 120px; margin: 0px; float: left; border: 1px solid black;' src='caltech_images/caltech101/laptop/image_0041.jpg' /><img style='height: 120px; margin: 0px; float: left; border: 1px solid black;' src='caltech_images/caltech101/laptop/image_0058.jpg' /><img style='height: 120px; margin: 0px; float: left; border: 1px solid black;' src='caltech_images/caltech101/laptop/image_0013.jpg' /><img style='height: 120px; margin: 0px; float: left; border: 1px solid black;' src='caltech_images/caltech101/laptop/image_0070.jpg' /><img style='height: 120px; margin: 0px; float: left; border: 1px solid black;' src='caltech_images/caltech101/laptop/image_0076.jpg' /><img style='height: 120px; margin: 0px; float: left; border: 1px solid black;' src='caltech_images/caltech101/laptop/image_0012.jpg' /><img style='height: 120px; margin: 0px; float: left; border: 1px solid black;' src='caltech_images/caltech101/laptop/image_0022.jpg' /><img style='height: 120px; margin: 0px; float: left; border: 1px solid black;' src='caltech_images/caltech101/watch/image_0210.jpg' /><img style='height: 120px; margin: 0px; float: left; border: 1px solid black;' src='caltech_images/caltech101/pyramid/image_0048.jpg' /><img style='height: 120px; margin: 0px; float: left; border: 1px solid black;' src='caltech_images/caltech101/laptop/image_0033.jpg' />"
            ],
            "text/plain": [
              "<IPython.core.display.HTML object>"
            ]
          },
          "metadata": {
            "tags": []
          }
        }
      ]
    },
    {
      "cell_type": "code",
      "metadata": {
        "id": "oLRJ7fvdvSZd",
        "colab_type": "code",
        "colab": {},
        "outputId": "73f72cf5-19dc-4329-f4f2-a9ca13687fe2"
      },
      "source": [
        "similar_images('strawberry/image_0027.jpg')"
      ],
      "execution_count": 0,
      "outputs": [
        {
          "output_type": "display_data",
          "data": {
            "text/html": [
              "<img style='height: 120px; margin: 0px; float: left; border: 1px solid black;' src='caltech_images/caltech101/strawberry/image_0027.jpg' /><img style='height: 120px; margin: 0px; float: left; border: 1px solid black;' src='caltech_images/caltech101/dolphin/image_0017.jpg' /><img style='height: 120px; margin: 0px; float: left; border: 1px solid black;' src='caltech_images/caltech101/strawberry/image_0019.jpg' /><img style='height: 120px; margin: 0px; float: left; border: 1px solid black;' src='caltech_images/caltech101/bonsai/image_0122.jpg' /><img style='height: 120px; margin: 0px; float: left; border: 1px solid black;' src='caltech_images/caltech101/bonsai/image_0111.jpg' /><img style='height: 120px; margin: 0px; float: left; border: 1px solid black;' src='caltech_images/caltech101/BACKGROUND_Google/image_0260.jpg' /><img style='height: 120px; margin: 0px; float: left; border: 1px solid black;' src='caltech_images/caltech101/platypus/image_0025.jpg' /><img style='height: 120px; margin: 0px; float: left; border: 1px solid black;' src='caltech_images/caltech101/brain/image_0046.jpg' /><img style='height: 120px; margin: 0px; float: left; border: 1px solid black;' src='caltech_images/caltech101/strawberry/image_0006.jpg' /><img style='height: 120px; margin: 0px; float: left; border: 1px solid black;' src='caltech_images/caltech101/strawberry/image_0034.jpg' /><img style='height: 120px; margin: 0px; float: left; border: 1px solid black;' src='caltech_images/caltech101/strawberry/image_0011.jpg' />"
            ],
            "text/plain": [
              "<IPython.core.display.HTML object>"
            ]
          },
          "metadata": {
            "tags": []
          }
        }
      ]
    },
    {
      "cell_type": "code",
      "metadata": {
        "id": "jOnqhNjmvSZg",
        "colab_type": "code",
        "colab": {},
        "outputId": "bcd4b14b-aa6b-4b5b-8732-415a2cc34273"
      },
      "source": [
        "similar_images('water_lilly/image_0009.jpg')"
      ],
      "execution_count": 0,
      "outputs": [
        {
          "output_type": "display_data",
          "data": {
            "text/html": [
              "<img style='height: 120px; margin: 0px; float: left; border: 1px solid black;' src='caltech_images/caltech101/water_lilly/image_0009.jpg' /><img style='height: 120px; margin: 0px; float: left; border: 1px solid black;' src='caltech_images/caltech101/water_lilly/image_0001.jpg' /><img style='height: 120px; margin: 0px; float: left; border: 1px solid black;' src='caltech_images/caltech101/lotus/image_0040.jpg' /><img style='height: 120px; margin: 0px; float: left; border: 1px solid black;' src='caltech_images/caltech101/lotus/image_0064.jpg' /><img style='height: 120px; margin: 0px; float: left; border: 1px solid black;' src='caltech_images/caltech101/sunflower/image_0037.jpg' /><img style='height: 120px; margin: 0px; float: left; border: 1px solid black;' src='caltech_images/caltech101/water_lilly/image_0018.jpg' /><img style='height: 120px; margin: 0px; float: left; border: 1px solid black;' src='caltech_images/caltech101/sunflower/image_0047.jpg' /><img style='height: 120px; margin: 0px; float: left; border: 1px solid black;' src='caltech_images/caltech101/sunflower/image_0036.jpg' /><img style='height: 120px; margin: 0px; float: left; border: 1px solid black;' src='caltech_images/caltech101/sunflower/image_0001.jpg' /><img style='height: 120px; margin: 0px; float: left; border: 1px solid black;' src='caltech_images/caltech101/water_lilly/image_0008.jpg' /><img style='height: 120px; margin: 0px; float: left; border: 1px solid black;' src='caltech_images/caltech101/water_lilly/image_0026.jpg' />"
            ],
            "text/plain": [
              "<IPython.core.display.HTML object>"
            ]
          },
          "metadata": {
            "tags": []
          }
        }
      ]
    }
  ]
}